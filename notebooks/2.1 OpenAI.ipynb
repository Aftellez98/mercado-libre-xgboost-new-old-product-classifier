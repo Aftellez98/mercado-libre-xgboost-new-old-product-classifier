{
 "cells": [
  {
   "cell_type": "markdown",
   "metadata": {},
   "source": [
    "<div style=\"background-image: url(https://wallpaperaccess.com/full/1614776.jpg); height: 500px; width: 100%; border: 1px solid black;   background-size: cover; color:white;\"> \n",
    "<br>\n",
    "<br>\n",
    "<h1 style=\"text-align:center;\">OPENAI INTEGRATION</h1>\n",
    "<br>\n",
    "<h2 style='text-align: center;'> Mercado Libre\n",
    "<h4 style='text-align: center;'> Andrés Felipe Téllez\n",
    "<h4 style='text-align: center;'>October 2024</h4>\n",
    "</div>"
   ]
  },
  {
   "cell_type": "code",
   "execution_count": 12,
   "metadata": {},
   "outputs": [],
   "source": [
    "from dotenv import load_dotenv\n",
    "from openai import OpenAI\n",
    "import os\n",
    "\n",
    "load_dotenv()\n",
    "\n",
    "api_key = os.getenv('OPENAI_API_KEY')\n",
    "client = OpenAI(api_key=api_key)"
   ]
  },
  {
   "cell_type": "markdown",
   "metadata": {},
   "source": [
    "### **Prompt**"
   ]
  },
  {
   "cell_type": "code",
   "execution_count": 13,
   "metadata": {},
   "outputs": [],
   "source": [
    "# Prompt base\n",
    "prompt_base = '''Respond to product inquiries in either Spanish or English. Based on the provided product description, reply with:\n",
    "                    1 if the product is new,\n",
    "                    0 if it is used,\n",
    "                    2 if you are unsure.\n",
    "\n",
    "                Please provide only the number and no explanations.'''"
   ]
  },
  {
   "cell_type": "markdown",
   "metadata": {},
   "source": [
    "### **Completion**"
   ]
  },
  {
   "cell_type": "code",
   "execution_count": 14,
   "metadata": {},
   "outputs": [],
   "source": [
    "def completion(product_information: str, prompt_base: str) -> str:\n",
    "    '''This function generates the opinion of gpt4 to understand if the product is new used or if it is unsure.'''\n",
    "    \n",
    "    completion = client.chat.completions.create(\n",
    "        model=\"gpt-4o\",\n",
    "        messages=[\n",
    "            {\"role\": \"system\", \"content\": prompt_base},\n",
    "            {\n",
    "                \"role\": \"user\",\n",
    "                \"content\": product_information,\n",
    "            }\n",
    "        ]\n",
    "    )\n",
    "\n",
    "    return completion.choices[0].message.content"
   ]
  },
  {
   "cell_type": "markdown",
   "metadata": {},
   "source": [
    "### **Examples**"
   ]
  },
  {
   "cell_type": "code",
   "execution_count": 15,
   "metadata": {},
   "outputs": [],
   "source": [
    "example1 = '''{title: 'Auriculares nuevos de apple',\n",
    "    permalink: https://www.mercadolibre.com.co/manos-libre-earpods-con-conector-lightning-blanco/p/MCO6347967#polycard_client=search-nordic&searchVariation=MCO6347967&position=3&search_layout=stack&type=product&tracking_id=042f1b49-4c76-439c-b970-822d7676792c&wid=MCO1412591247&sid=search\n",
    "    }\n",
    "'''"
   ]
  },
  {
   "cell_type": "code",
   "execution_count": 16,
   "metadata": {},
   "outputs": [
    {
     "data": {
      "text/plain": [
       "'1'"
      ]
     },
     "execution_count": 16,
     "metadata": {},
     "output_type": "execute_result"
    }
   ],
   "source": [
    "completion(example1, prompt_base)"
   ]
  },
  {
   "cell_type": "code",
   "execution_count": 18,
   "metadata": {},
   "outputs": [],
   "source": [
    "example2 = '''{title: 'Auriculares de apple',\n",
    "    permalink: https://www.mercadolibre.com.co/manos-libre-earpods-con-conector-lightning-blanco/p/MCO6347967#polycard_client=search-nordic&searchVariation=MCO6347967&position=3&search_layout=stack&type=product&tracking_id=042f1b49-4c76-439c-b970-822d7676792c&wid=MCO1412591247&sid=search\n",
    "    }\n",
    "'''"
   ]
  },
  {
   "cell_type": "code",
   "execution_count": 19,
   "metadata": {},
   "outputs": [
    {
     "data": {
      "text/plain": [
       "'2'"
      ]
     },
     "execution_count": 19,
     "metadata": {},
     "output_type": "execute_result"
    }
   ],
   "source": [
    "completion(example2, prompt_base)"
   ]
  }
 ],
 "metadata": {
  "kernelspec": {
   "display_name": "rccl_recomender",
   "language": "python",
   "name": "python3"
  },
  "language_info": {
   "codemirror_mode": {
    "name": "ipython",
    "version": 3
   },
   "file_extension": ".py",
   "mimetype": "text/x-python",
   "name": "python",
   "nbconvert_exporter": "python",
   "pygments_lexer": "ipython3",
   "version": "3.9.19"
  }
 },
 "nbformat": 4,
 "nbformat_minor": 2
}
