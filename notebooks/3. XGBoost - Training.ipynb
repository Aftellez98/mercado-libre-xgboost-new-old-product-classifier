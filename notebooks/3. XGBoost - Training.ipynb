{
 "cells": [
  {
   "cell_type": "markdown",
   "metadata": {},
   "source": [
    "<div style=\"background-image: url(https://wallpaperaccess.com/full/1614776.jpg); height: 500px; width: 100%; border: 1px solid black;   background-size: cover; color:white;\"> \n",
    "<br>\n",
    "<br>\n",
    "<h1 style=\"text-align:center;\">XGBOOST TRAINING</h1>\n",
    "<br>\n",
    "<h2 style='text-align: center;'> Mercado Libre\n",
    "<h4 style='text-align: center;'> Andrés Felipe Téllez\n",
    "<h4 style='text-align: center;'>October 2024</h4>\n",
    "</div>"
   ]
  },
  {
   "cell_type": "markdown",
   "metadata": {},
   "source": [
    "### **Installing dependencied**"
   ]
  },
  {
   "cell_type": "code",
   "execution_count": 55,
   "metadata": {},
   "outputs": [],
   "source": [
    "# Load libraries\n",
    "import numpy as np\n",
    "import pandas as pd\n",
    "import pickle\n",
    "import optuna\n",
    "import shap\n",
    "import xgboost as xgb\n",
    "\n",
    "from sklearn.metrics import accuracy_score, confusion_matrix\n",
    "from sklearn.model_selection import train_test_split, cross_val_score"
   ]
  },
  {
   "cell_type": "markdown",
   "metadata": {},
   "source": [
    "### **Loading data**"
   ]
  },
  {
   "cell_type": "code",
   "execution_count": 2,
   "metadata": {},
   "outputs": [],
   "source": [
    "# Create a schema for the data\n",
    "schema = {'warranty': 'category',\n",
    " 'sub_status': 'category',\n",
    " 'condition': 'category',\n",
    " 'deal_ids': 'float',\n",
    " 'base_price': 'float',\n",
    " 'seller_id': 'category',\n",
    " 'listing_type_id': 'category',\n",
    " 'price': 'float',\n",
    " 'buying_mode': 'category',\n",
    " 'parent_item_id': 'category',\n",
    " 'category_id': 'category',\n",
    " 'official_store_id': 'category',\n",
    " 'accepts_mercadopago': 'category',\n",
    " 'original_price': 'float',\n",
    " 'currency_id': 'category',\n",
    " 'automatic_relist': 'category',\n",
    " 'status': 'category',\n",
    " 'initial_quantity': 'float',\n",
    " 'sold_quantity': 'float',\n",
    " 'available_quantity': 'float',\n",
    " 'seller_address.longitude': 'float',\n",
    " 'seller_address.id': 'category',\n",
    " 'seller_address.address_line': 'category',\n",
    " 'seller_address.latitude': 'float',\n",
    " 'seller_address.search_location.neighborhood.id': 'category',\n",
    " 'seller_address.search_location.state.id': 'category',\n",
    " 'seller_address.search_location.city.id': 'category',\n",
    " 'seller_address.zip_code': 'category',\n",
    " 'seller_address.city.id': 'category',\n",
    " 'seller_address.state.id': 'category',\n",
    " 'shipping.local_pick_up': 'category',\n",
    " 'shipping.tags': 'category',\n",
    " 'shipping.mode': 'category',\n",
    " 'shipping.free_methods': 'category',\n",
    " 'seller_contact.phone2': 'category',\n",
    " 'seller_contact.webpage': 'category',\n",
    " 'seller_contact.email': 'category',\n",
    " 'seller_contact.contact': 'category',\n",
    " 'seller_contact.area_code': 'category',\n",
    " 'seller_contact.other_info': 'category',\n",
    " 'seller_contact.phone': 'category',\n",
    " 'location.open_hours': 'category',\n",
    " 'location.neighborhood.id': 'category',\n",
    " 'location.longitude': 'float',\n",
    " 'location.address_line': 'category',\n",
    " 'location.latitude': 'float',\n",
    " 'location.city.id': 'category',\n",
    " 'location.state.id': 'category',\n",
    " 'non_mercado_pago_payment_methods.MLAWC': 'category',\n",
    " 'non_mercado_pago_payment_methods.MLACD': 'category',\n",
    " 'non_mercado_pago_payment_methods.MLAVS': 'category',\n",
    " 'non_mercado_pago_payment_methods.MLAMO': 'category',\n",
    " 'non_mercado_pago_payment_methods.MLADC': 'category',\n",
    " 'non_mercado_pago_payment_methods.MLAMP': 'category',\n",
    " 'non_mercado_pago_payment_methods.MLAMC': 'category',\n",
    " 'non_mercado_pago_payment_methods.MLABC': 'category',\n",
    " 'non_mercado_pago_payment_methods.MLAOT': 'category',\n",
    " 'non_mercado_pago_payment_methods.MLAAM': 'category',\n",
    " 'non_mercado_pago_payment_methods.MLAWT': 'category',\n",
    " 'non_mercado_pago_payment_methods.MLAVE': 'category',\n",
    " 'non_mercado_pago_payment_methods.MLATB': 'category',\n",
    " 'non_mercado_pago_payment_methods.MLAMS': 'category',\n",
    " 'tags.good_quality_thumbnail': 'category',\n",
    " 'tags.dragged_visits': 'category',\n",
    " 'tags.free_relist': 'category',\n",
    " 'tags.dragged_bids_and_visits': 'category',\n",
    " 'tags.poor_quality_thumbnail': 'category',\n",
    " 'pictures.large': 'float',\n",
    " 'pictures.medium': 'float',\n",
    " 'pictures.small': 'float',\n",
    " 'title.new': 'category',\n",
    " 'video': 'category',\n",
    " 'seller_address.product_count': 'float'}"
   ]
  },
  {
   "cell_type": "code",
   "execution_count": 3,
   "metadata": {},
   "outputs": [],
   "source": [
    "# Load data\n",
    "df = pd.read_csv('../data/clean/output.csv', dtype=schema)"
   ]
  },
  {
   "cell_type": "code",
   "execution_count": 4,
   "metadata": {},
   "outputs": [],
   "source": [
    "# Drop rows with 70+ missing values\n",
    "df = df.drop(16647)\n",
    "df = df.drop(83078)\n",
    "df = df.drop(92230)\n",
    "df = df.drop(82275)\n",
    "df = df.drop(88864)"
   ]
  },
  {
   "cell_type": "code",
   "execution_count": 5,
   "metadata": {},
   "outputs": [],
   "source": [
    "missing_values_per_row = df.isna().sum(axis=1)\n",
    "missing_values_per_row = missing_values_per_row.sort_values(ascending=False)"
   ]
  },
  {
   "cell_type": "markdown",
   "metadata": {},
   "source": [
    "### **Split test and train data**"
   ]
  },
  {
   "cell_type": "code",
   "execution_count": 6,
   "metadata": {},
   "outputs": [],
   "source": [
    "X = df.drop(columns=['condition'])\n",
    "y = df['condition'].apply(lambda x: 1 if x == 'new' else 0)"
   ]
  },
  {
   "cell_type": "code",
   "execution_count": 7,
   "metadata": {},
   "outputs": [],
   "source": [
    "X_train, X_test, y_train, y_test = train_test_split(X, y, test_size=0.2)"
   ]
  },
  {
   "cell_type": "markdown",
   "metadata": {},
   "source": [
    "### **Simple XGBoost**"
   ]
  },
  {
   "cell_type": "code",
   "execution_count": 22,
   "metadata": {},
   "outputs": [
    {
     "data": {
      "text/plain": [
       "0.9144069080442357"
      ]
     },
     "execution_count": 22,
     "metadata": {},
     "output_type": "execute_result"
    }
   ],
   "source": [
    "params = {\n",
    "    'max_depth': 10,\n",
    "    'learning_rate': 0.1,\n",
    "    'objective': 'multi:softmax',\n",
    "    'num_class': 2,\n",
    "    'enable_categorical': True\n",
    "}\n",
    "\n",
    "model = xgb.XGBClassifier(**params)\n",
    "model.fit(X_train, y_train)\n",
    "\n",
    "preds = model.predict(X_test)\n",
    "\n",
    "accuracy = accuracy_score(y_test, preds)\n",
    "accuracy"
   ]
  },
  {
   "cell_type": "code",
   "execution_count": 9,
   "metadata": {},
   "outputs": [],
   "source": [
    "# model.get_params()"
   ]
  },
  {
   "cell_type": "markdown",
   "metadata": {},
   "source": [
    "### **Finding the best hyper-parameters**"
   ]
  },
  {
   "cell_type": "code",
   "execution_count": 10,
   "metadata": {},
   "outputs": [],
   "source": [
    "def objective(trial):\n",
    "    '''Use optuna to generate model simulations'''\n",
    "\n",
    "    params = {\n",
    "        'max_depth': trial.suggest_int('max_depth', 1, 20),\n",
    "        'learning_rate': trial.suggest_float('learning_rate', 0.01, 0.5),\n",
    "        'n_estimators': trial.suggest_int('n_estimators', 200, 350),\n",
    "        'min_child_weight': trial.suggest_int('min_child_weight', 1, 10), \n",
    "        'gamma': trial.suggest_float('gamma', 1e-8, 1.0),\n",
    "        'subsample': trial.suggest_uniform('subsample', 0.5, 1.0),\n",
    "        'colsample_bytree': trial.suggest_uniform('colsample_bytree', 0.5, 0.8),\n",
    "        'reg_alpha': trial.suggest_float('reg_alpha', 1e-8, 1.0),\n",
    "        'reg_lambda': trial.suggest_float('reg_lambda', 1e-8, 1.0),\n",
    "        'objective': 'multi:softmax',\n",
    "        'num_class': 2,\n",
    "        'enable_categorical': True\n",
    "    }\n",
    "\n",
    "    model = xgb.XGBClassifier(**params)\n",
    "\n",
    "    scores = cross_val_score(model, X_train, y_train, cv=3, scoring='accuracy')\n",
    "    return scores.mean()"
   ]
  },
  {
   "cell_type": "code",
   "execution_count": 11,
   "metadata": {},
   "outputs": [
    {
     "name": "stderr",
     "output_type": "stream",
     "text": [
      "[I 2024-10-06 23:52:25,063] A new study created in memory with name: no-name-6a58adc8-d486-4cbb-a500-59c3109743ea\n"
     ]
    },
    {
     "data": {
      "application/vnd.jupyter.widget-view+json": {
       "model_id": "165b3d972be64c63a9ca2ec4a6208963",
       "version_major": 2,
       "version_minor": 0
      },
      "text/plain": [
       "  0%|          | 0/50 [00:00<?, ?it/s]"
      ]
     },
     "metadata": {},
     "output_type": "display_data"
    },
    {
     "name": "stderr",
     "output_type": "stream",
     "text": [
      "/var/folders/_n/r6v_878172qgdkkhlq7tz9pc0000gq/T/ipykernel_55586/2969005371.py:10: FutureWarning: suggest_uniform has been deprecated in v3.0.0. This feature will be removed in v6.0.0. See https://github.com/optuna/optuna/releases/tag/v3.0.0. Use suggest_float instead.\n",
      "  'subsample': trial.suggest_uniform('subsample', 0.5, 1.0),\n",
      "/var/folders/_n/r6v_878172qgdkkhlq7tz9pc0000gq/T/ipykernel_55586/2969005371.py:11: FutureWarning: suggest_uniform has been deprecated in v3.0.0. This feature will be removed in v6.0.0. See https://github.com/optuna/optuna/releases/tag/v3.0.0. Use suggest_float instead.\n",
      "  'colsample_bytree': trial.suggest_uniform('colsample_bytree', 0.5, 0.8),\n"
     ]
    },
    {
     "name": "stdout",
     "output_type": "stream",
     "text": [
      "[I 2024-10-06 23:53:54,610] Trial 0 finished with value: 0.9010996235695529 and parameters: {'max_depth': 18, 'learning_rate': 0.4550907472863567, 'n_estimators': 291, 'min_child_weight': 2, 'gamma': 0.5835544449856905, 'subsample': 0.6600693132649261, 'colsample_bytree': 0.5796040146144207, 'reg_alpha': 0.28570538278590896, 'reg_lambda': 0.786727715800476}. Best is trial 0 with value: 0.9010996235695529.\n"
     ]
    },
    {
     "name": "stderr",
     "output_type": "stream",
     "text": [
      "/var/folders/_n/r6v_878172qgdkkhlq7tz9pc0000gq/T/ipykernel_55586/2969005371.py:10: FutureWarning: suggest_uniform has been deprecated in v3.0.0. This feature will be removed in v6.0.0. See https://github.com/optuna/optuna/releases/tag/v3.0.0. Use suggest_float instead.\n",
      "  'subsample': trial.suggest_uniform('subsample', 0.5, 1.0),\n",
      "/var/folders/_n/r6v_878172qgdkkhlq7tz9pc0000gq/T/ipykernel_55586/2969005371.py:11: FutureWarning: suggest_uniform has been deprecated in v3.0.0. This feature will be removed in v6.0.0. See https://github.com/optuna/optuna/releases/tag/v3.0.0. Use suggest_float instead.\n",
      "  'colsample_bytree': trial.suggest_uniform('colsample_bytree', 0.5, 0.8),\n"
     ]
    },
    {
     "name": "stdout",
     "output_type": "stream",
     "text": [
      "[I 2024-10-06 23:55:32,754] Trial 1 finished with value: 0.9021853205251519 and parameters: {'max_depth': 16, 'learning_rate': 0.43166492115042104, 'n_estimators': 221, 'min_child_weight': 4, 'gamma': 0.20559975793323673, 'subsample': 0.879420278081416, 'colsample_bytree': 0.7650942076151215, 'reg_alpha': 0.9265013265904409, 'reg_lambda': 0.881546373754274}. Best is trial 1 with value: 0.9021853205251519.\n"
     ]
    },
    {
     "name": "stderr",
     "output_type": "stream",
     "text": [
      "/var/folders/_n/r6v_878172qgdkkhlq7tz9pc0000gq/T/ipykernel_55586/2969005371.py:10: FutureWarning: suggest_uniform has been deprecated in v3.0.0. This feature will be removed in v6.0.0. See https://github.com/optuna/optuna/releases/tag/v3.0.0. Use suggest_float instead.\n",
      "  'subsample': trial.suggest_uniform('subsample', 0.5, 1.0),\n",
      "/var/folders/_n/r6v_878172qgdkkhlq7tz9pc0000gq/T/ipykernel_55586/2969005371.py:11: FutureWarning: suggest_uniform has been deprecated in v3.0.0. This feature will be removed in v6.0.0. See https://github.com/optuna/optuna/releases/tag/v3.0.0. Use suggest_float instead.\n",
      "  'colsample_bytree': trial.suggest_uniform('colsample_bytree', 0.5, 0.8),\n"
     ]
    },
    {
     "name": "stdout",
     "output_type": "stream",
     "text": [
      "[I 2024-10-06 23:55:54,731] Trial 2 finished with value: 0.9057454345176518 and parameters: {'max_depth': 3, 'learning_rate': 0.3591309391303914, 'n_estimators': 281, 'min_child_weight': 1, 'gamma': 0.5995668539286694, 'subsample': 0.6811152095769262, 'colsample_bytree': 0.6583144341001974, 'reg_alpha': 0.9177707295097484, 'reg_lambda': 0.6491925628506626}. Best is trial 2 with value: 0.9057454345176518.\n"
     ]
    },
    {
     "name": "stderr",
     "output_type": "stream",
     "text": [
      "/var/folders/_n/r6v_878172qgdkkhlq7tz9pc0000gq/T/ipykernel_55586/2969005371.py:10: FutureWarning: suggest_uniform has been deprecated in v3.0.0. This feature will be removed in v6.0.0. See https://github.com/optuna/optuna/releases/tag/v3.0.0. Use suggest_float instead.\n",
      "  'subsample': trial.suggest_uniform('subsample', 0.5, 1.0),\n",
      "/var/folders/_n/r6v_878172qgdkkhlq7tz9pc0000gq/T/ipykernel_55586/2969005371.py:11: FutureWarning: suggest_uniform has been deprecated in v3.0.0. This feature will be removed in v6.0.0. See https://github.com/optuna/optuna/releases/tag/v3.0.0. Use suggest_float instead.\n",
      "  'colsample_bytree': trial.suggest_uniform('colsample_bytree', 0.5, 0.8),\n"
     ]
    },
    {
     "name": "stdout",
     "output_type": "stream",
     "text": [
      "[I 2024-10-06 23:56:58,311] Trial 3 finished with value: 0.9011248646189931 and parameters: {'max_depth': 9, 'learning_rate': 0.24301933428254463, 'n_estimators': 236, 'min_child_weight': 5, 'gamma': 0.8888879546811073, 'subsample': 0.8715952447868842, 'colsample_bytree': 0.7101118161093884, 'reg_alpha': 0.05860853882949363, 'reg_lambda': 0.461015601334538}. Best is trial 2 with value: 0.9057454345176518.\n"
     ]
    },
    {
     "name": "stderr",
     "output_type": "stream",
     "text": [
      "/var/folders/_n/r6v_878172qgdkkhlq7tz9pc0000gq/T/ipykernel_55586/2969005371.py:10: FutureWarning: suggest_uniform has been deprecated in v3.0.0. This feature will be removed in v6.0.0. See https://github.com/optuna/optuna/releases/tag/v3.0.0. Use suggest_float instead.\n",
      "  'subsample': trial.suggest_uniform('subsample', 0.5, 1.0),\n",
      "/var/folders/_n/r6v_878172qgdkkhlq7tz9pc0000gq/T/ipykernel_55586/2969005371.py:11: FutureWarning: suggest_uniform has been deprecated in v3.0.0. This feature will be removed in v6.0.0. See https://github.com/optuna/optuna/releases/tag/v3.0.0. Use suggest_float instead.\n",
      "  'colsample_bytree': trial.suggest_uniform('colsample_bytree', 0.5, 0.8),\n"
     ]
    },
    {
     "name": "stdout",
     "output_type": "stream",
     "text": [
      "[I 2024-10-06 23:59:51,308] Trial 4 finished with value: 0.9021979487001236 and parameters: {'max_depth': 12, 'learning_rate': 0.1383989290548518, 'n_estimators': 269, 'min_child_weight': 6, 'gamma': 0.34035471868102424, 'subsample': 0.8322010918292285, 'colsample_bytree': 0.6935619024396569, 'reg_alpha': 0.4209054752689827, 'reg_lambda': 0.0843306223304985}. Best is trial 2 with value: 0.9057454345176518.\n"
     ]
    },
    {
     "name": "stderr",
     "output_type": "stream",
     "text": [
      "/var/folders/_n/r6v_878172qgdkkhlq7tz9pc0000gq/T/ipykernel_55586/2969005371.py:10: FutureWarning: suggest_uniform has been deprecated in v3.0.0. This feature will be removed in v6.0.0. See https://github.com/optuna/optuna/releases/tag/v3.0.0. Use suggest_float instead.\n",
      "  'subsample': trial.suggest_uniform('subsample', 0.5, 1.0),\n",
      "/var/folders/_n/r6v_878172qgdkkhlq7tz9pc0000gq/T/ipykernel_55586/2969005371.py:11: FutureWarning: suggest_uniform has been deprecated in v3.0.0. This feature will be removed in v6.0.0. See https://github.com/optuna/optuna/releases/tag/v3.0.0. Use suggest_float instead.\n",
      "  'colsample_bytree': trial.suggest_uniform('colsample_bytree', 0.5, 0.8),\n"
     ]
    },
    {
     "name": "stdout",
     "output_type": "stream",
     "text": [
      "[I 2024-10-07 00:00:50,952] Trial 5 finished with value: 0.9031069109737083 and parameters: {'max_depth': 6, 'learning_rate': 0.27516942099281394, 'n_estimators': 348, 'min_child_weight': 3, 'gamma': 0.5957682878561799, 'subsample': 0.9005336902889854, 'colsample_bytree': 0.6060099623836379, 'reg_alpha': 0.3140172211507566, 'reg_lambda': 0.6427606325400499}. Best is trial 2 with value: 0.9057454345176518.\n"
     ]
    },
    {
     "name": "stderr",
     "output_type": "stream",
     "text": [
      "/var/folders/_n/r6v_878172qgdkkhlq7tz9pc0000gq/T/ipykernel_55586/2969005371.py:10: FutureWarning: suggest_uniform has been deprecated in v3.0.0. This feature will be removed in v6.0.0. See https://github.com/optuna/optuna/releases/tag/v3.0.0. Use suggest_float instead.\n",
      "  'subsample': trial.suggest_uniform('subsample', 0.5, 1.0),\n",
      "/var/folders/_n/r6v_878172qgdkkhlq7tz9pc0000gq/T/ipykernel_55586/2969005371.py:11: FutureWarning: suggest_uniform has been deprecated in v3.0.0. This feature will be removed in v6.0.0. See https://github.com/optuna/optuna/releases/tag/v3.0.0. Use suggest_float instead.\n",
      "  'colsample_bytree': trial.suggest_uniform('colsample_bytree', 0.5, 0.8),\n"
     ]
    },
    {
     "name": "stdout",
     "output_type": "stream",
     "text": [
      "[I 2024-10-07 00:02:03,871] Trial 6 finished with value: 0.8992438288416897 and parameters: {'max_depth': 7, 'learning_rate': 0.30147236961636265, 'n_estimators': 305, 'min_child_weight': 9, 'gamma': 0.23946725741860264, 'subsample': 0.7576125169415101, 'colsample_bytree': 0.5566778461306368, 'reg_alpha': 0.4986793943968011, 'reg_lambda': 0.5954156599453616}. Best is trial 2 with value: 0.9057454345176518.\n"
     ]
    },
    {
     "name": "stderr",
     "output_type": "stream",
     "text": [
      "/var/folders/_n/r6v_878172qgdkkhlq7tz9pc0000gq/T/ipykernel_55586/2969005371.py:10: FutureWarning: suggest_uniform has been deprecated in v3.0.0. This feature will be removed in v6.0.0. See https://github.com/optuna/optuna/releases/tag/v3.0.0. Use suggest_float instead.\n",
      "  'subsample': trial.suggest_uniform('subsample', 0.5, 1.0),\n",
      "/var/folders/_n/r6v_878172qgdkkhlq7tz9pc0000gq/T/ipykernel_55586/2969005371.py:11: FutureWarning: suggest_uniform has been deprecated in v3.0.0. This feature will be removed in v6.0.0. See https://github.com/optuna/optuna/releases/tag/v3.0.0. Use suggest_float instead.\n",
      "  'colsample_bytree': trial.suggest_uniform('colsample_bytree', 0.5, 0.8),\n"
     ]
    },
    {
     "name": "stdout",
     "output_type": "stream",
     "text": [
      "[I 2024-10-07 00:04:21,750] Trial 7 finished with value: 0.8986252074889332 and parameters: {'max_depth': 10, 'learning_rate': 0.30381166087128325, 'n_estimators': 212, 'min_child_weight': 5, 'gamma': 0.07145662989315851, 'subsample': 0.5552380585220393, 'colsample_bytree': 0.6951511180605645, 'reg_alpha': 0.31159763566993914, 'reg_lambda': 0.9176517758491494}. Best is trial 2 with value: 0.9057454345176518.\n"
     ]
    },
    {
     "name": "stderr",
     "output_type": "stream",
     "text": [
      "/var/folders/_n/r6v_878172qgdkkhlq7tz9pc0000gq/T/ipykernel_55586/2969005371.py:10: FutureWarning: suggest_uniform has been deprecated in v3.0.0. This feature will be removed in v6.0.0. See https://github.com/optuna/optuna/releases/tag/v3.0.0. Use suggest_float instead.\n",
      "  'subsample': trial.suggest_uniform('subsample', 0.5, 1.0),\n",
      "/var/folders/_n/r6v_878172qgdkkhlq7tz9pc0000gq/T/ipykernel_55586/2969005371.py:11: FutureWarning: suggest_uniform has been deprecated in v3.0.0. This feature will be removed in v6.0.0. See https://github.com/optuna/optuna/releases/tag/v3.0.0. Use suggest_float instead.\n",
      "  'colsample_bytree': trial.suggest_uniform('colsample_bytree', 0.5, 0.8),\n"
     ]
    },
    {
     "name": "stdout",
     "output_type": "stream",
     "text": [
      "[I 2024-10-07 00:05:53,445] Trial 8 finished with value: 0.9006577636746916 and parameters: {'max_depth': 18, 'learning_rate': 0.20547833402180113, 'n_estimators': 250, 'min_child_weight': 5, 'gamma': 0.9066674064926142, 'subsample': 0.7162610129800939, 'colsample_bytree': 0.6381336466220824, 'reg_alpha': 0.5703281604447585, 'reg_lambda': 0.11570604057694618}. Best is trial 2 with value: 0.9057454345176518.\n"
     ]
    },
    {
     "name": "stderr",
     "output_type": "stream",
     "text": [
      "/var/folders/_n/r6v_878172qgdkkhlq7tz9pc0000gq/T/ipykernel_55586/2969005371.py:10: FutureWarning: suggest_uniform has been deprecated in v3.0.0. This feature will be removed in v6.0.0. See https://github.com/optuna/optuna/releases/tag/v3.0.0. Use suggest_float instead.\n",
      "  'subsample': trial.suggest_uniform('subsample', 0.5, 1.0),\n",
      "/var/folders/_n/r6v_878172qgdkkhlq7tz9pc0000gq/T/ipykernel_55586/2969005371.py:11: FutureWarning: suggest_uniform has been deprecated in v3.0.0. This feature will be removed in v6.0.0. See https://github.com/optuna/optuna/releases/tag/v3.0.0. Use suggest_float instead.\n",
      "  'colsample_bytree': trial.suggest_uniform('colsample_bytree', 0.5, 0.8),\n"
     ]
    },
    {
     "name": "stdout",
     "output_type": "stream",
     "text": [
      "[I 2024-10-07 00:08:06,287] Trial 9 finished with value: 0.9077401090473391 and parameters: {'max_depth': 14, 'learning_rate': 0.1922986056410134, 'n_estimators': 339, 'min_child_weight': 2, 'gamma': 0.4992024432773057, 'subsample': 0.8773284473435227, 'colsample_bytree': 0.577262223465849, 'reg_alpha': 0.08053621433193425, 'reg_lambda': 0.6583004674815662}. Best is trial 9 with value: 0.9077401090473391.\n"
     ]
    },
    {
     "name": "stderr",
     "output_type": "stream",
     "text": [
      "/var/folders/_n/r6v_878172qgdkkhlq7tz9pc0000gq/T/ipykernel_55586/2969005371.py:10: FutureWarning: suggest_uniform has been deprecated in v3.0.0. This feature will be removed in v6.0.0. See https://github.com/optuna/optuna/releases/tag/v3.0.0. Use suggest_float instead.\n",
      "  'subsample': trial.suggest_uniform('subsample', 0.5, 1.0),\n",
      "/var/folders/_n/r6v_878172qgdkkhlq7tz9pc0000gq/T/ipykernel_55586/2969005371.py:11: FutureWarning: suggest_uniform has been deprecated in v3.0.0. This feature will be removed in v6.0.0. See https://github.com/optuna/optuna/releases/tag/v3.0.0. Use suggest_float instead.\n",
      "  'colsample_bytree': trial.suggest_uniform('colsample_bytree', 0.5, 0.8),\n"
     ]
    },
    {
     "name": "stdout",
     "output_type": "stream",
     "text": [
      "[I 2024-10-07 00:14:09,328] Trial 10 finished with value: 0.8977162351743931 and parameters: {'max_depth': 14, 'learning_rate': 0.0231423075536914, 'n_estimators': 349, 'min_child_weight': 9, 'gamma': 0.44482385481163245, 'subsample': 0.9947659543917365, 'colsample_bytree': 0.504108649314715, 'reg_alpha': 0.006639383162338544, 'reg_lambda': 0.378537158297422}. Best is trial 9 with value: 0.9077401090473391.\n"
     ]
    },
    {
     "name": "stderr",
     "output_type": "stream",
     "text": [
      "/var/folders/_n/r6v_878172qgdkkhlq7tz9pc0000gq/T/ipykernel_55586/2969005371.py:10: FutureWarning: suggest_uniform has been deprecated in v3.0.0. This feature will be removed in v6.0.0. See https://github.com/optuna/optuna/releases/tag/v3.0.0. Use suggest_float instead.\n",
      "  'subsample': trial.suggest_uniform('subsample', 0.5, 1.0),\n",
      "/var/folders/_n/r6v_878172qgdkkhlq7tz9pc0000gq/T/ipykernel_55586/2969005371.py:11: FutureWarning: suggest_uniform has been deprecated in v3.0.0. This feature will be removed in v6.0.0. See https://github.com/optuna/optuna/releases/tag/v3.0.0. Use suggest_float instead.\n",
      "  'colsample_bytree': trial.suggest_uniform('colsample_bytree', 0.5, 0.8),\n"
     ]
    },
    {
     "name": "stdout",
     "output_type": "stream",
     "text": [
      "[I 2024-10-07 00:14:18,998] Trial 11 finished with value: 0.9002916537040323 and parameters: {'max_depth': 1, 'learning_rate': 0.37696826575310965, 'n_estimators': 317, 'min_child_weight': 1, 'gamma': 0.7014268900038108, 'subsample': 0.6002849077649418, 'colsample_bytree': 0.5299935473916032, 'reg_alpha': 0.9410475191088886, 'reg_lambda': 0.7162487154739636}. Best is trial 9 with value: 0.9077401090473391.\n"
     ]
    },
    {
     "name": "stderr",
     "output_type": "stream",
     "text": [
      "/var/folders/_n/r6v_878172qgdkkhlq7tz9pc0000gq/T/ipykernel_55586/2969005371.py:10: FutureWarning: suggest_uniform has been deprecated in v3.0.0. This feature will be removed in v6.0.0. See https://github.com/optuna/optuna/releases/tag/v3.0.0. Use suggest_float instead.\n",
      "  'subsample': trial.suggest_uniform('subsample', 0.5, 1.0),\n",
      "/var/folders/_n/r6v_878172qgdkkhlq7tz9pc0000gq/T/ipykernel_55586/2969005371.py:11: FutureWarning: suggest_uniform has been deprecated in v3.0.0. This feature will be removed in v6.0.0. See https://github.com/optuna/optuna/releases/tag/v3.0.0. Use suggest_float instead.\n",
      "  'colsample_bytree': trial.suggest_uniform('colsample_bytree', 0.5, 0.8),\n"
     ]
    },
    {
     "name": "stdout",
     "output_type": "stream",
     "text": [
      "[I 2024-10-07 00:14:29,909] Trial 12 finished with value: 0.8960371641313073 and parameters: {'max_depth': 1, 'learning_rate': 0.11839870914021167, 'n_estimators': 321, 'min_child_weight': 1, 'gamma': 0.7166286968493131, 'subsample': 0.7834297861746182, 'colsample_bytree': 0.636313160227179, 'reg_alpha': 0.7358822713369357, 'reg_lambda': 0.3851897553039125}. Best is trial 9 with value: 0.9077401090473391.\n"
     ]
    },
    {
     "name": "stderr",
     "output_type": "stream",
     "text": [
      "/var/folders/_n/r6v_878172qgdkkhlq7tz9pc0000gq/T/ipykernel_55586/2969005371.py:10: FutureWarning: suggest_uniform has been deprecated in v3.0.0. This feature will be removed in v6.0.0. See https://github.com/optuna/optuna/releases/tag/v3.0.0. Use suggest_float instead.\n",
      "  'subsample': trial.suggest_uniform('subsample', 0.5, 1.0),\n",
      "/var/folders/_n/r6v_878172qgdkkhlq7tz9pc0000gq/T/ipykernel_55586/2969005371.py:11: FutureWarning: suggest_uniform has been deprecated in v3.0.0. This feature will be removed in v6.0.0. See https://github.com/optuna/optuna/releases/tag/v3.0.0. Use suggest_float instead.\n",
      "  'colsample_bytree': trial.suggest_uniform('colsample_bytree', 0.5, 0.8),\n"
     ]
    },
    {
     "name": "stdout",
     "output_type": "stream",
     "text": [
      "[I 2024-10-07 00:14:53,387] Trial 13 finished with value: 0.9023494437671199 and parameters: {'max_depth': 4, 'learning_rate': 0.3782625880784648, 'n_estimators': 276, 'min_child_weight': 3, 'gamma': 0.42727087838493155, 'subsample': 0.9746692415728845, 'colsample_bytree': 0.5973403439434388, 'reg_alpha': 0.7516167127289073, 'reg_lambda': 0.9997309977763762}. Best is trial 9 with value: 0.9077401090473391.\n"
     ]
    },
    {
     "name": "stderr",
     "output_type": "stream",
     "text": [
      "/var/folders/_n/r6v_878172qgdkkhlq7tz9pc0000gq/T/ipykernel_55586/2969005371.py:10: FutureWarning: suggest_uniform has been deprecated in v3.0.0. This feature will be removed in v6.0.0. See https://github.com/optuna/optuna/releases/tag/v3.0.0. Use suggest_float instead.\n",
      "  'subsample': trial.suggest_uniform('subsample', 0.5, 1.0),\n",
      "/var/folders/_n/r6v_878172qgdkkhlq7tz9pc0000gq/T/ipykernel_55586/2969005371.py:11: FutureWarning: suggest_uniform has been deprecated in v3.0.0. This feature will be removed in v6.0.0. See https://github.com/optuna/optuna/releases/tag/v3.0.0. Use suggest_float instead.\n",
      "  'colsample_bytree': trial.suggest_uniform('colsample_bytree', 0.5, 0.8),\n"
     ]
    },
    {
     "name": "stdout",
     "output_type": "stream",
     "text": [
      "[I 2024-10-07 00:17:22,716] Trial 14 finished with value: 0.8993195539025733 and parameters: {'max_depth': 13, 'learning_rate': 0.16844658469722384, 'n_estimators': 327, 'min_child_weight': 7, 'gamma': 0.7516165307883859, 'subsample': 0.6656830314590674, 'colsample_bytree': 0.7913980057521368, 'reg_alpha': 0.17234466601054071, 'reg_lambda': 0.5363986055540075}. Best is trial 9 with value: 0.9077401090473391.\n"
     ]
    },
    {
     "name": "stderr",
     "output_type": "stream",
     "text": [
      "/var/folders/_n/r6v_878172qgdkkhlq7tz9pc0000gq/T/ipykernel_55586/2969005371.py:10: FutureWarning: suggest_uniform has been deprecated in v3.0.0. This feature will be removed in v6.0.0. See https://github.com/optuna/optuna/releases/tag/v3.0.0. Use suggest_float instead.\n",
      "  'subsample': trial.suggest_uniform('subsample', 0.5, 1.0),\n",
      "/var/folders/_n/r6v_878172qgdkkhlq7tz9pc0000gq/T/ipykernel_55586/2969005371.py:11: FutureWarning: suggest_uniform has been deprecated in v3.0.0. This feature will be removed in v6.0.0. See https://github.com/optuna/optuna/releases/tag/v3.0.0. Use suggest_float instead.\n",
      "  'colsample_bytree': trial.suggest_uniform('colsample_bytree', 0.5, 0.8),\n"
     ]
    },
    {
     "name": "stdout",
     "output_type": "stream",
     "text": [
      "[I 2024-10-07 00:18:39,376] Trial 15 finished with value: 0.9029554178192751 and parameters: {'max_depth': 20, 'learning_rate': 0.49872640935912815, 'n_estimators': 261, 'min_child_weight': 2, 'gamma': 0.50723054685009, 'subsample': 0.8039107909172318, 'colsample_bytree': 0.6625756919134023, 'reg_alpha': 0.6754485109042213, 'reg_lambda': 0.2894384317374784}. Best is trial 9 with value: 0.9077401090473391.\n"
     ]
    },
    {
     "name": "stderr",
     "output_type": "stream",
     "text": [
      "/var/folders/_n/r6v_878172qgdkkhlq7tz9pc0000gq/T/ipykernel_55586/2969005371.py:10: FutureWarning: suggest_uniform has been deprecated in v3.0.0. This feature will be removed in v6.0.0. See https://github.com/optuna/optuna/releases/tag/v3.0.0. Use suggest_float instead.\n",
      "  'subsample': trial.suggest_uniform('subsample', 0.5, 1.0),\n",
      "/var/folders/_n/r6v_878172qgdkkhlq7tz9pc0000gq/T/ipykernel_55586/2969005371.py:11: FutureWarning: suggest_uniform has been deprecated in v3.0.0. This feature will be removed in v6.0.0. See https://github.com/optuna/optuna/releases/tag/v3.0.0. Use suggest_float instead.\n",
      "  'colsample_bytree': trial.suggest_uniform('colsample_bytree', 0.5, 0.8),\n"
     ]
    },
    {
     "name": "stdout",
     "output_type": "stream",
     "text": [
      "[I 2024-10-07 00:19:15,182] Trial 16 finished with value: 0.9047354717076104 and parameters: {'max_depth': 4, 'learning_rate': 0.07460221976607892, 'n_estimators': 291, 'min_child_weight': 1, 'gamma': 0.5818663864113875, 'subsample': 0.5122850287075589, 'colsample_bytree': 0.7365144627659106, 'reg_alpha': 0.8848446992816686, 'reg_lambda': 0.753931908151886}. Best is trial 9 with value: 0.9077401090473391.\n"
     ]
    },
    {
     "name": "stderr",
     "output_type": "stream",
     "text": [
      "/var/folders/_n/r6v_878172qgdkkhlq7tz9pc0000gq/T/ipykernel_55586/2969005371.py:10: FutureWarning: suggest_uniform has been deprecated in v3.0.0. This feature will be removed in v6.0.0. See https://github.com/optuna/optuna/releases/tag/v3.0.0. Use suggest_float instead.\n",
      "  'subsample': trial.suggest_uniform('subsample', 0.5, 1.0),\n",
      "/var/folders/_n/r6v_878172qgdkkhlq7tz9pc0000gq/T/ipykernel_55586/2969005371.py:11: FutureWarning: suggest_uniform has been deprecated in v3.0.0. This feature will be removed in v6.0.0. See https://github.com/optuna/optuna/releases/tag/v3.0.0. Use suggest_float instead.\n",
      "  'colsample_bytree': trial.suggest_uniform('colsample_bytree', 0.5, 0.8),\n"
     ]
    },
    {
     "name": "stdout",
     "output_type": "stream",
     "text": [
      "[I 2024-10-07 00:21:15,694] Trial 17 finished with value: 0.9028291877087559 and parameters: {'max_depth': 15, 'learning_rate': 0.35160066890963493, 'n_estimators': 333, 'min_child_weight': 3, 'gamma': 0.35333150278673464, 'subsample': 0.7001478385581786, 'colsample_bytree': 0.5590696298866829, 'reg_alpha': 0.15488601281054443, 'reg_lambda': 0.6535246964414699}. Best is trial 9 with value: 0.9077401090473391.\n"
     ]
    },
    {
     "name": "stderr",
     "output_type": "stream",
     "text": [
      "/var/folders/_n/r6v_878172qgdkkhlq7tz9pc0000gq/T/ipykernel_55586/2969005371.py:10: FutureWarning: suggest_uniform has been deprecated in v3.0.0. This feature will be removed in v6.0.0. See https://github.com/optuna/optuna/releases/tag/v3.0.0. Use suggest_float instead.\n",
      "  'subsample': trial.suggest_uniform('subsample', 0.5, 1.0),\n",
      "/var/folders/_n/r6v_878172qgdkkhlq7tz9pc0000gq/T/ipykernel_55586/2969005371.py:11: FutureWarning: suggest_uniform has been deprecated in v3.0.0. This feature will be removed in v6.0.0. See https://github.com/optuna/optuna/releases/tag/v3.0.0. Use suggest_float instead.\n",
      "  'colsample_bytree': trial.suggest_uniform('colsample_bytree', 0.5, 0.8),\n"
     ]
    },
    {
     "name": "stdout",
     "output_type": "stream",
     "text": [
      "[I 2024-10-07 00:22:03,471] Trial 18 finished with value: 0.9058085634389927 and parameters: {'max_depth': 8, 'learning_rate': 0.22078617870357864, 'n_estimators': 292, 'min_child_weight': 2, 'gamma': 0.8239883867017583, 'subsample': 0.9302842619040369, 'colsample_bytree': 0.6229749064755103, 'reg_alpha': 0.6109994756543686, 'reg_lambda': 0.8373882710547526}. Best is trial 9 with value: 0.9077401090473391.\n"
     ]
    },
    {
     "name": "stderr",
     "output_type": "stream",
     "text": [
      "/var/folders/_n/r6v_878172qgdkkhlq7tz9pc0000gq/T/ipykernel_55586/2969005371.py:10: FutureWarning: suggest_uniform has been deprecated in v3.0.0. This feature will be removed in v6.0.0. See https://github.com/optuna/optuna/releases/tag/v3.0.0. Use suggest_float instead.\n",
      "  'subsample': trial.suggest_uniform('subsample', 0.5, 1.0),\n",
      "/var/folders/_n/r6v_878172qgdkkhlq7tz9pc0000gq/T/ipykernel_55586/2969005371.py:11: FutureWarning: suggest_uniform has been deprecated in v3.0.0. This feature will be removed in v6.0.0. See https://github.com/optuna/optuna/releases/tag/v3.0.0. Use suggest_float instead.\n",
      "  'colsample_bytree': trial.suggest_uniform('colsample_bytree', 0.5, 0.8),\n"
     ]
    },
    {
     "name": "stdout",
     "output_type": "stream",
     "text": [
      "[I 2024-10-07 00:22:45,687] Trial 19 finished with value: 0.8976909855184196 and parameters: {'max_depth': 8, 'learning_rate': 0.21191174420436312, 'n_estimators': 313, 'min_child_weight': 7, 'gamma': 0.9746974614754498, 'subsample': 0.9290779456057382, 'colsample_bytree': 0.6182106539280174, 'reg_alpha': 0.6057558977589952, 'reg_lambda': 0.892419737038695}. Best is trial 9 with value: 0.9077401090473391.\n"
     ]
    },
    {
     "name": "stderr",
     "output_type": "stream",
     "text": [
      "/var/folders/_n/r6v_878172qgdkkhlq7tz9pc0000gq/T/ipykernel_55586/2969005371.py:10: FutureWarning: suggest_uniform has been deprecated in v3.0.0. This feature will be removed in v6.0.0. See https://github.com/optuna/optuna/releases/tag/v3.0.0. Use suggest_float instead.\n",
      "  'subsample': trial.suggest_uniform('subsample', 0.5, 1.0),\n",
      "/var/folders/_n/r6v_878172qgdkkhlq7tz9pc0000gq/T/ipykernel_55586/2969005371.py:11: FutureWarning: suggest_uniform has been deprecated in v3.0.0. This feature will be removed in v6.0.0. See https://github.com/optuna/optuna/releases/tag/v3.0.0. Use suggest_float instead.\n",
      "  'colsample_bytree': trial.suggest_uniform('colsample_bytree', 0.5, 0.8),\n"
     ]
    },
    {
     "name": "stdout",
     "output_type": "stream",
     "text": [
      "[I 2024-10-07 00:24:14,308] Trial 20 finished with value: 0.9023873062975616 and parameters: {'max_depth': 11, 'learning_rate': 0.0968427566738862, 'n_estimators': 338, 'min_child_weight': 4, 'gamma': 0.8109686791463926, 'subsample': 0.9508782430962907, 'colsample_bytree': 0.5683671230659242, 'reg_alpha': 0.4358819798535983, 'reg_lambda': 0.7615194769886362}. Best is trial 9 with value: 0.9077401090473391.\n"
     ]
    },
    {
     "name": "stderr",
     "output_type": "stream",
     "text": [
      "/var/folders/_n/r6v_878172qgdkkhlq7tz9pc0000gq/T/ipykernel_55586/2969005371.py:10: FutureWarning: suggest_uniform has been deprecated in v3.0.0. This feature will be removed in v6.0.0. See https://github.com/optuna/optuna/releases/tag/v3.0.0. Use suggest_float instead.\n",
      "  'subsample': trial.suggest_uniform('subsample', 0.5, 1.0),\n",
      "/var/folders/_n/r6v_878172qgdkkhlq7tz9pc0000gq/T/ipykernel_55586/2969005371.py:11: FutureWarning: suggest_uniform has been deprecated in v3.0.0. This feature will be removed in v6.0.0. See https://github.com/optuna/optuna/releases/tag/v3.0.0. Use suggest_float instead.\n",
      "  'colsample_bytree': trial.suggest_uniform('colsample_bytree', 0.5, 0.8),\n"
     ]
    },
    {
     "name": "stdout",
     "output_type": "stream",
     "text": [
      "[I 2024-10-07 00:24:47,034] Trial 21 finished with value: 0.9035740147868543 and parameters: {'max_depth': 4, 'learning_rate': 0.18341508618477145, 'n_estimators': 290, 'min_child_weight': 2, 'gamma': 0.6300320264731638, 'subsample': 0.8580383901113153, 'colsample_bytree': 0.6779725868029216, 'reg_alpha': 0.8478114881505832, 'reg_lambda': 0.5349128059980351}. Best is trial 9 with value: 0.9077401090473391.\n"
     ]
    },
    {
     "name": "stderr",
     "output_type": "stream",
     "text": [
      "/var/folders/_n/r6v_878172qgdkkhlq7tz9pc0000gq/T/ipykernel_55586/2969005371.py:10: FutureWarning: suggest_uniform has been deprecated in v3.0.0. This feature will be removed in v6.0.0. See https://github.com/optuna/optuna/releases/tag/v3.0.0. Use suggest_float instead.\n",
      "  'subsample': trial.suggest_uniform('subsample', 0.5, 1.0),\n",
      "/var/folders/_n/r6v_878172qgdkkhlq7tz9pc0000gq/T/ipykernel_55586/2969005371.py:11: FutureWarning: suggest_uniform has been deprecated in v3.0.0. This feature will be removed in v6.0.0. See https://github.com/optuna/optuna/releases/tag/v3.0.0. Use suggest_float instead.\n",
      "  'colsample_bytree': trial.suggest_uniform('colsample_bytree', 0.5, 0.8),\n"
     ]
    },
    {
     "name": "stdout",
     "output_type": "stream",
     "text": [
      "[I 2024-10-07 00:25:57,991] Trial 22 finished with value: 0.9066417757883757 and parameters: {'max_depth': 11, 'learning_rate': 0.24898658259184914, 'n_estimators': 304, 'min_child_weight': 2, 'gamma': 0.5039951856334567, 'subsample': 0.9130676766871668, 'colsample_bytree': 0.6443720525540869, 'reg_alpha': 0.78370256738937, 'reg_lambda': 0.8094545375646118}. Best is trial 9 with value: 0.9077401090473391.\n"
     ]
    },
    {
     "name": "stderr",
     "output_type": "stream",
     "text": [
      "/var/folders/_n/r6v_878172qgdkkhlq7tz9pc0000gq/T/ipykernel_55586/2969005371.py:10: FutureWarning: suggest_uniform has been deprecated in v3.0.0. This feature will be removed in v6.0.0. See https://github.com/optuna/optuna/releases/tag/v3.0.0. Use suggest_float instead.\n",
      "  'subsample': trial.suggest_uniform('subsample', 0.5, 1.0),\n",
      "/var/folders/_n/r6v_878172qgdkkhlq7tz9pc0000gq/T/ipykernel_55586/2969005371.py:11: FutureWarning: suggest_uniform has been deprecated in v3.0.0. This feature will be removed in v6.0.0. See https://github.com/optuna/optuna/releases/tag/v3.0.0. Use suggest_float instead.\n",
      "  'colsample_bytree': trial.suggest_uniform('colsample_bytree', 0.5, 0.8),\n"
     ]
    },
    {
     "name": "stdout",
     "output_type": "stream",
     "text": [
      "[I 2024-10-07 00:27:06,379] Trial 23 finished with value: 0.9043188762910854 and parameters: {'max_depth': 11, 'learning_rate': 0.2376536810790849, 'n_estimators': 304, 'min_child_weight': 3, 'gamma': 0.49039867216072924, 'subsample': 0.9211241257109706, 'colsample_bytree': 0.6125459187648903, 'reg_alpha': 0.7689578225507572, 'reg_lambda': 0.8494096867438753}. Best is trial 9 with value: 0.9077401090473391.\n"
     ]
    },
    {
     "name": "stderr",
     "output_type": "stream",
     "text": [
      "/var/folders/_n/r6v_878172qgdkkhlq7tz9pc0000gq/T/ipykernel_55586/2969005371.py:10: FutureWarning: suggest_uniform has been deprecated in v3.0.0. This feature will be removed in v6.0.0. See https://github.com/optuna/optuna/releases/tag/v3.0.0. Use suggest_float instead.\n",
      "  'subsample': trial.suggest_uniform('subsample', 0.5, 1.0),\n",
      "/var/folders/_n/r6v_878172qgdkkhlq7tz9pc0000gq/T/ipykernel_55586/2969005371.py:11: FutureWarning: suggest_uniform has been deprecated in v3.0.0. This feature will be removed in v6.0.0. See https://github.com/optuna/optuna/releases/tag/v3.0.0. Use suggest_float instead.\n",
      "  'colsample_bytree': trial.suggest_uniform('colsample_bytree', 0.5, 0.8),\n"
     ]
    },
    {
     "name": "stdout",
     "output_type": "stream",
     "text": [
      "[I 2024-10-07 00:31:20,312] Trial 24 finished with value: 0.9083586969302441 and parameters: {'max_depth': 13, 'learning_rate': 0.16324937120610417, 'n_estimators': 301, 'min_child_weight': 2, 'gamma': 0.032269897090430155, 'subsample': 0.8279612162222534, 'colsample_bytree': 0.5335882221688506, 'reg_alpha': 0.6178146365245388, 'reg_lambda': 0.960281242260524}. Best is trial 24 with value: 0.9083586969302441.\n"
     ]
    },
    {
     "name": "stderr",
     "output_type": "stream",
     "text": [
      "/var/folders/_n/r6v_878172qgdkkhlq7tz9pc0000gq/T/ipykernel_55586/2969005371.py:10: FutureWarning: suggest_uniform has been deprecated in v3.0.0. This feature will be removed in v6.0.0. See https://github.com/optuna/optuna/releases/tag/v3.0.0. Use suggest_float instead.\n",
      "  'subsample': trial.suggest_uniform('subsample', 0.5, 1.0),\n",
      "/var/folders/_n/r6v_878172qgdkkhlq7tz9pc0000gq/T/ipykernel_55586/2969005371.py:11: FutureWarning: suggest_uniform has been deprecated in v3.0.0. This feature will be removed in v6.0.0. See https://github.com/optuna/optuna/releases/tag/v3.0.0. Use suggest_float instead.\n",
      "  'colsample_bytree': trial.suggest_uniform('colsample_bytree', 0.5, 0.8),\n"
     ]
    },
    {
     "name": "stdout",
     "output_type": "stream",
     "text": [
      "[I 2024-10-07 00:36:25,220] Trial 25 finished with value: 0.9042178690606585 and parameters: {'max_depth': 16, 'learning_rate': 0.152393793706978, 'n_estimators': 307, 'min_child_weight': 4, 'gamma': 0.044551476210111296, 'subsample': 0.8338990580861956, 'colsample_bytree': 0.5225624363724215, 'reg_alpha': 0.7938383755722794, 'reg_lambda': 0.9934272821306517}. Best is trial 24 with value: 0.9083586969302441.\n"
     ]
    },
    {
     "name": "stderr",
     "output_type": "stream",
     "text": [
      "/var/folders/_n/r6v_878172qgdkkhlq7tz9pc0000gq/T/ipykernel_55586/2969005371.py:10: FutureWarning: suggest_uniform has been deprecated in v3.0.0. This feature will be removed in v6.0.0. See https://github.com/optuna/optuna/releases/tag/v3.0.0. Use suggest_float instead.\n",
      "  'subsample': trial.suggest_uniform('subsample', 0.5, 1.0),\n",
      "/var/folders/_n/r6v_878172qgdkkhlq7tz9pc0000gq/T/ipykernel_55586/2969005371.py:11: FutureWarning: suggest_uniform has been deprecated in v3.0.0. This feature will be removed in v6.0.0. See https://github.com/optuna/optuna/releases/tag/v3.0.0. Use suggest_float instead.\n",
      "  'colsample_bytree': trial.suggest_uniform('colsample_bytree', 0.5, 0.8),\n"
     ]
    },
    {
     "name": "stdout",
     "output_type": "stream",
     "text": [
      "[I 2024-10-07 00:41:10,241] Trial 26 finished with value: 0.9077906045341599 and parameters: {'max_depth': 13, 'learning_rate': 0.05507941085894083, 'n_estimators': 328, 'min_child_weight': 2, 'gamma': 0.1458387725556261, 'subsample': 0.8066113011992135, 'colsample_bytree': 0.5388884644954105, 'reg_alpha': 0.6809324555524845, 'reg_lambda': 0.9247659522262749}. Best is trial 24 with value: 0.9083586969302441.\n"
     ]
    },
    {
     "name": "stderr",
     "output_type": "stream",
     "text": [
      "/var/folders/_n/r6v_878172qgdkkhlq7tz9pc0000gq/T/ipykernel_55586/2969005371.py:10: FutureWarning: suggest_uniform has been deprecated in v3.0.0. This feature will be removed in v6.0.0. See https://github.com/optuna/optuna/releases/tag/v3.0.0. Use suggest_float instead.\n",
      "  'subsample': trial.suggest_uniform('subsample', 0.5, 1.0),\n",
      "/var/folders/_n/r6v_878172qgdkkhlq7tz9pc0000gq/T/ipykernel_55586/2969005371.py:11: FutureWarning: suggest_uniform has been deprecated in v3.0.0. This feature will be removed in v6.0.0. See https://github.com/optuna/optuna/releases/tag/v3.0.0. Use suggest_float instead.\n",
      "  'colsample_bytree': trial.suggest_uniform('colsample_bytree', 0.5, 0.8),\n"
     ]
    },
    {
     "name": "stdout",
     "output_type": "stream",
     "text": [
      "[I 2024-10-07 00:45:48,851] Trial 27 finished with value: 0.8962265413325153 and parameters: {'max_depth': 13, 'learning_rate': 0.02893486482597729, 'n_estimators': 338, 'min_child_weight': 10, 'gamma': 0.115091980129674, 'subsample': 0.7379321057289829, 'colsample_bytree': 0.5332508684063764, 'reg_alpha': 0.6737559214428795, 'reg_lambda': 0.9381698455622607}. Best is trial 24 with value: 0.9083586969302441.\n"
     ]
    },
    {
     "name": "stderr",
     "output_type": "stream",
     "text": [
      "/var/folders/_n/r6v_878172qgdkkhlq7tz9pc0000gq/T/ipykernel_55586/2969005371.py:10: FutureWarning: suggest_uniform has been deprecated in v3.0.0. This feature will be removed in v6.0.0. See https://github.com/optuna/optuna/releases/tag/v3.0.0. Use suggest_float instead.\n",
      "  'subsample': trial.suggest_uniform('subsample', 0.5, 1.0),\n",
      "/var/folders/_n/r6v_878172qgdkkhlq7tz9pc0000gq/T/ipykernel_55586/2969005371.py:11: FutureWarning: suggest_uniform has been deprecated in v3.0.0. This feature will be removed in v6.0.0. See https://github.com/optuna/optuna/releases/tag/v3.0.0. Use suggest_float instead.\n",
      "  'colsample_bytree': trial.suggest_uniform('colsample_bytree', 0.5, 0.8),\n"
     ]
    },
    {
     "name": "stdout",
     "output_type": "stream",
     "text": [
      "[I 2024-10-07 00:51:13,731] Trial 28 finished with value: 0.9051773473811157 and parameters: {'max_depth': 15, 'learning_rate': 0.06317388160815475, 'n_estimators': 327, 'min_child_weight': 4, 'gamma': 0.19971553098215677, 'subsample': 0.7976720226861284, 'colsample_bytree': 0.5027135075276296, 'reg_alpha': 0.5022928713175834, 'reg_lambda': 0.1884711905906657}. Best is trial 24 with value: 0.9083586969302441.\n"
     ]
    },
    {
     "name": "stderr",
     "output_type": "stream",
     "text": [
      "/var/folders/_n/r6v_878172qgdkkhlq7tz9pc0000gq/T/ipykernel_55586/2969005371.py:10: FutureWarning: suggest_uniform has been deprecated in v3.0.0. This feature will be removed in v6.0.0. See https://github.com/optuna/optuna/releases/tag/v3.0.0. Use suggest_float instead.\n",
      "  'subsample': trial.suggest_uniform('subsample', 0.5, 1.0),\n",
      "/var/folders/_n/r6v_878172qgdkkhlq7tz9pc0000gq/T/ipykernel_55586/2969005371.py:11: FutureWarning: suggest_uniform has been deprecated in v3.0.0. This feature will be removed in v6.0.0. See https://github.com/optuna/optuna/releases/tag/v3.0.0. Use suggest_float instead.\n",
      "  'colsample_bytree': trial.suggest_uniform('colsample_bytree', 0.5, 0.8),\n"
     ]
    },
    {
     "name": "stdout",
     "output_type": "stream",
     "text": [
      "[I 2024-10-07 00:56:14,696] Trial 29 finished with value: 0.9064650296309839 and parameters: {'max_depth': 18, 'learning_rate': 0.11751091341530075, 'n_estimators': 337, 'min_child_weight': 3, 'gamma': 0.13240685918187906, 'subsample': 0.8289819966380245, 'colsample_bytree': 0.5854816504841895, 'reg_alpha': 0.9953161522318774, 'reg_lambda': 0.7304669137624915}. Best is trial 24 with value: 0.9083586969302441.\n"
     ]
    },
    {
     "name": "stderr",
     "output_type": "stream",
     "text": [
      "/var/folders/_n/r6v_878172qgdkkhlq7tz9pc0000gq/T/ipykernel_55586/2969005371.py:10: FutureWarning: suggest_uniform has been deprecated in v3.0.0. This feature will be removed in v6.0.0. See https://github.com/optuna/optuna/releases/tag/v3.0.0. Use suggest_float instead.\n",
      "  'subsample': trial.suggest_uniform('subsample', 0.5, 1.0),\n",
      "/var/folders/_n/r6v_878172qgdkkhlq7tz9pc0000gq/T/ipykernel_55586/2969005371.py:11: FutureWarning: suggest_uniform has been deprecated in v3.0.0. This feature will be removed in v6.0.0. See https://github.com/optuna/optuna/releases/tag/v3.0.0. Use suggest_float instead.\n",
      "  'colsample_bytree': trial.suggest_uniform('colsample_bytree', 0.5, 0.8),\n"
     ]
    },
    {
     "name": "stdout",
     "output_type": "stream",
     "text": [
      "[I 2024-10-07 01:06:02,428] Trial 30 finished with value: 0.9089520662363236 and parameters: {'max_depth': 17, 'learning_rate': 0.05491391747543228, 'n_estimators': 321, 'min_child_weight': 2, 'gamma': 0.008058777486651934, 'subsample': 0.761634284995113, 'colsample_bytree': 0.5444469530251802, 'reg_alpha': 0.3868751370672936, 'reg_lambda': 0.9494575952471607}. Best is trial 30 with value: 0.9089520662363236.\n"
     ]
    },
    {
     "name": "stderr",
     "output_type": "stream",
     "text": [
      "/var/folders/_n/r6v_878172qgdkkhlq7tz9pc0000gq/T/ipykernel_55586/2969005371.py:10: FutureWarning: suggest_uniform has been deprecated in v3.0.0. This feature will be removed in v6.0.0. See https://github.com/optuna/optuna/releases/tag/v3.0.0. Use suggest_float instead.\n",
      "  'subsample': trial.suggest_uniform('subsample', 0.5, 1.0),\n",
      "/var/folders/_n/r6v_878172qgdkkhlq7tz9pc0000gq/T/ipykernel_55586/2969005371.py:11: FutureWarning: suggest_uniform has been deprecated in v3.0.0. This feature will be removed in v6.0.0. See https://github.com/optuna/optuna/releases/tag/v3.0.0. Use suggest_float instead.\n",
      "  'colsample_bytree': trial.suggest_uniform('colsample_bytree', 0.5, 0.8),\n"
     ]
    },
    {
     "name": "stdout",
     "output_type": "stream",
     "text": [
      "[I 2024-10-07 01:16:18,200] Trial 31 finished with value: 0.9085733223530035 and parameters: {'max_depth': 17, 'learning_rate': 0.050440412768508774, 'n_estimators': 324, 'min_child_weight': 2, 'gamma': 0.024273207353421672, 'subsample': 0.7504210013725321, 'colsample_bytree': 0.5475755911794953, 'reg_alpha': 0.21518644412223162, 'reg_lambda': 0.9533737984792615}. Best is trial 30 with value: 0.9089520662363236.\n"
     ]
    },
    {
     "name": "stderr",
     "output_type": "stream",
     "text": [
      "/var/folders/_n/r6v_878172qgdkkhlq7tz9pc0000gq/T/ipykernel_55586/2969005371.py:10: FutureWarning: suggest_uniform has been deprecated in v3.0.0. This feature will be removed in v6.0.0. See https://github.com/optuna/optuna/releases/tag/v3.0.0. Use suggest_float instead.\n",
      "  'subsample': trial.suggest_uniform('subsample', 0.5, 1.0),\n",
      "/var/folders/_n/r6v_878172qgdkkhlq7tz9pc0000gq/T/ipykernel_55586/2969005371.py:11: FutureWarning: suggest_uniform has been deprecated in v3.0.0. This feature will be removed in v6.0.0. See https://github.com/optuna/optuna/releases/tag/v3.0.0. Use suggest_float instead.\n",
      "  'colsample_bytree': trial.suggest_uniform('colsample_bytree', 0.5, 0.8),\n"
     ]
    },
    {
     "name": "stdout",
     "output_type": "stream",
     "text": [
      "[I 2024-10-07 01:29:41,106] Trial 32 finished with value: 0.9112118482876506 and parameters: {'max_depth': 20, 'learning_rate': 0.06275724843725808, 'n_estimators': 320, 'min_child_weight': 1, 'gamma': 0.004330515895104964, 'subsample': 0.7580242401046595, 'colsample_bytree': 0.5468938603301621, 'reg_alpha': 0.2539488421853695, 'reg_lambda': 0.9497463401460314}. Best is trial 32 with value: 0.9112118482876506.\n"
     ]
    },
    {
     "name": "stderr",
     "output_type": "stream",
     "text": [
      "/var/folders/_n/r6v_878172qgdkkhlq7tz9pc0000gq/T/ipykernel_55586/2969005371.py:10: FutureWarning: suggest_uniform has been deprecated in v3.0.0. This feature will be removed in v6.0.0. See https://github.com/optuna/optuna/releases/tag/v3.0.0. Use suggest_float instead.\n",
      "  'subsample': trial.suggest_uniform('subsample', 0.5, 1.0),\n",
      "/var/folders/_n/r6v_878172qgdkkhlq7tz9pc0000gq/T/ipykernel_55586/2969005371.py:11: FutureWarning: suggest_uniform has been deprecated in v3.0.0. This feature will be removed in v6.0.0. See https://github.com/optuna/optuna/releases/tag/v3.0.0. Use suggest_float instead.\n",
      "  'colsample_bytree': trial.suggest_uniform('colsample_bytree', 0.5, 0.8),\n"
     ]
    },
    {
     "name": "stdout",
     "output_type": "stream",
     "text": [
      "[I 2024-10-07 01:39:16,966] Trial 33 finished with value: 0.91054274244531 and parameters: {'max_depth': 20, 'learning_rate': 0.08917097895249793, 'n_estimators': 316, 'min_child_weight': 1, 'gamma': 0.034562830135072595, 'subsample': 0.6345460483497943, 'colsample_bytree': 0.5518169552641541, 'reg_alpha': 0.23943592260880883, 'reg_lambda': 0.97267699441766}. Best is trial 32 with value: 0.9112118482876506.\n"
     ]
    },
    {
     "name": "stderr",
     "output_type": "stream",
     "text": [
      "/var/folders/_n/r6v_878172qgdkkhlq7tz9pc0000gq/T/ipykernel_55586/2969005371.py:10: FutureWarning: suggest_uniform has been deprecated in v3.0.0. This feature will be removed in v6.0.0. See https://github.com/optuna/optuna/releases/tag/v3.0.0. Use suggest_float instead.\n",
      "  'subsample': trial.suggest_uniform('subsample', 0.5, 1.0),\n",
      "/var/folders/_n/r6v_878172qgdkkhlq7tz9pc0000gq/T/ipykernel_55586/2969005371.py:11: FutureWarning: suggest_uniform has been deprecated in v3.0.0. This feature will be removed in v6.0.0. See https://github.com/optuna/optuna/releases/tag/v3.0.0. Use suggest_float instead.\n",
      "  'colsample_bytree': trial.suggest_uniform('colsample_bytree', 0.5, 0.8),\n"
     ]
    },
    {
     "name": "stdout",
     "output_type": "stream",
     "text": [
      "[I 2024-10-07 01:52:57,104] Trial 34 finished with value: 0.9109719775121844 and parameters: {'max_depth': 20, 'learning_rate': 0.017137593607628787, 'n_estimators': 319, 'min_child_weight': 1, 'gamma': 0.009038008848178378, 'subsample': 0.6272922161198686, 'colsample_bytree': 0.5507027135466255, 'reg_alpha': 0.24574986160495554, 'reg_lambda': 0.8676827408145754}. Best is trial 32 with value: 0.9112118482876506.\n"
     ]
    },
    {
     "name": "stderr",
     "output_type": "stream",
     "text": [
      "/var/folders/_n/r6v_878172qgdkkhlq7tz9pc0000gq/T/ipykernel_55586/2969005371.py:10: FutureWarning: suggest_uniform has been deprecated in v3.0.0. This feature will be removed in v6.0.0. See https://github.com/optuna/optuna/releases/tag/v3.0.0. Use suggest_float instead.\n",
      "  'subsample': trial.suggest_uniform('subsample', 0.5, 1.0),\n",
      "/var/folders/_n/r6v_878172qgdkkhlq7tz9pc0000gq/T/ipykernel_55586/2969005371.py:11: FutureWarning: suggest_uniform has been deprecated in v3.0.0. This feature will be removed in v6.0.0. See https://github.com/optuna/optuna/releases/tag/v3.0.0. Use suggest_float instead.\n",
      "  'colsample_bytree': trial.suggest_uniform('colsample_bytree', 0.5, 0.8),\n"
     ]
    },
    {
     "name": "stdout",
     "output_type": "stream",
     "text": [
      "[I 2024-10-07 02:01:06,387] Trial 35 finished with value: 0.9091792940144551 and parameters: {'max_depth': 20, 'learning_rate': 0.013181326450548377, 'n_estimators': 283, 'min_child_weight': 1, 'gamma': 0.24163066286649304, 'subsample': 0.6001446693625062, 'colsample_bytree': 0.5868553008907895, 'reg_alpha': 0.3786267063591719, 'reg_lambda': 0.866826789480872}. Best is trial 32 with value: 0.9112118482876506.\n"
     ]
    },
    {
     "name": "stderr",
     "output_type": "stream",
     "text": [
      "/var/folders/_n/r6v_878172qgdkkhlq7tz9pc0000gq/T/ipykernel_55586/2969005371.py:10: FutureWarning: suggest_uniform has been deprecated in v3.0.0. This feature will be removed in v6.0.0. See https://github.com/optuna/optuna/releases/tag/v3.0.0. Use suggest_float instead.\n",
      "  'subsample': trial.suggest_uniform('subsample', 0.5, 1.0),\n",
      "/var/folders/_n/r6v_878172qgdkkhlq7tz9pc0000gq/T/ipykernel_55586/2969005371.py:11: FutureWarning: suggest_uniform has been deprecated in v3.0.0. This feature will be removed in v6.0.0. See https://github.com/optuna/optuna/releases/tag/v3.0.0. Use suggest_float instead.\n",
      "  'colsample_bytree': trial.suggest_uniform('colsample_bytree', 0.5, 0.8),\n"
     ]
    },
    {
     "name": "stdout",
     "output_type": "stream",
     "text": [
      "[I 2024-10-07 02:06:01,393] Trial 36 finished with value: 0.9110224820836793 and parameters: {'max_depth': 20, 'learning_rate': 0.09388286490341717, 'n_estimators': 283, 'min_child_weight': 1, 'gamma': 0.2521553028239867, 'subsample': 0.6255198722963471, 'colsample_bytree': 0.592402369776946, 'reg_alpha': 0.24883321032423872, 'reg_lambda': 0.8528472982924047}. Best is trial 32 with value: 0.9112118482876506.\n"
     ]
    },
    {
     "name": "stderr",
     "output_type": "stream",
     "text": [
      "/var/folders/_n/r6v_878172qgdkkhlq7tz9pc0000gq/T/ipykernel_55586/2969005371.py:10: FutureWarning: suggest_uniform has been deprecated in v3.0.0. This feature will be removed in v6.0.0. See https://github.com/optuna/optuna/releases/tag/v3.0.0. Use suggest_float instead.\n",
      "  'subsample': trial.suggest_uniform('subsample', 0.5, 1.0),\n",
      "/var/folders/_n/r6v_878172qgdkkhlq7tz9pc0000gq/T/ipykernel_55586/2969005371.py:11: FutureWarning: suggest_uniform has been deprecated in v3.0.0. This feature will be removed in v6.0.0. See https://github.com/optuna/optuna/releases/tag/v3.0.0. Use suggest_float instead.\n",
      "  'colsample_bytree': trial.suggest_uniform('colsample_bytree', 0.5, 0.8),\n"
     ]
    },
    {
     "name": "stdout",
     "output_type": "stream",
     "text": [
      "[I 2024-10-07 02:09:51,931] Trial 37 finished with value: 0.9105174961363215 and parameters: {'max_depth': 19, 'learning_rate': 0.09426668823981062, 'n_estimators': 240, 'min_child_weight': 1, 'gamma': 0.3050238009235414, 'subsample': 0.6220830106344978, 'colsample_bytree': 0.5689047191607961, 'reg_alpha': 0.252068281665235, 'reg_lambda': 0.8024104064874317}. Best is trial 32 with value: 0.9112118482876506.\n"
     ]
    },
    {
     "name": "stderr",
     "output_type": "stream",
     "text": [
      "/var/folders/_n/r6v_878172qgdkkhlq7tz9pc0000gq/T/ipykernel_55586/2969005371.py:10: FutureWarning: suggest_uniform has been deprecated in v3.0.0. This feature will be removed in v6.0.0. See https://github.com/optuna/optuna/releases/tag/v3.0.0. Use suggest_float instead.\n",
      "  'subsample': trial.suggest_uniform('subsample', 0.5, 1.0),\n",
      "/var/folders/_n/r6v_878172qgdkkhlq7tz9pc0000gq/T/ipykernel_55586/2969005371.py:11: FutureWarning: suggest_uniform has been deprecated in v3.0.0. This feature will be removed in v6.0.0. See https://github.com/optuna/optuna/releases/tag/v3.0.0. Use suggest_float instead.\n",
      "  'colsample_bytree': trial.suggest_uniform('colsample_bytree', 0.5, 0.8),\n"
     ]
    },
    {
     "name": "stdout",
     "output_type": "stream",
     "text": [
      "[I 2024-10-07 02:15:32,084] Trial 38 finished with value: 0.9106689883344735 and parameters: {'max_depth': 19, 'learning_rate': 0.12354223324148036, 'n_estimators': 261, 'min_child_weight': 1, 'gamma': 0.09404728026306614, 'subsample': 0.6493820370197716, 'colsample_bytree': 0.5128955693788347, 'reg_alpha': 0.13272178738689816, 'reg_lambda': 0.8829267837977165}. Best is trial 32 with value: 0.9112118482876506.\n"
     ]
    },
    {
     "name": "stderr",
     "output_type": "stream",
     "text": [
      "/var/folders/_n/r6v_878172qgdkkhlq7tz9pc0000gq/T/ipykernel_55586/2969005371.py:10: FutureWarning: suggest_uniform has been deprecated in v3.0.0. This feature will be removed in v6.0.0. See https://github.com/optuna/optuna/releases/tag/v3.0.0. Use suggest_float instead.\n",
      "  'subsample': trial.suggest_uniform('subsample', 0.5, 1.0),\n",
      "/var/folders/_n/r6v_878172qgdkkhlq7tz9pc0000gq/T/ipykernel_55586/2969005371.py:11: FutureWarning: suggest_uniform has been deprecated in v3.0.0. This feature will be removed in v6.0.0. See https://github.com/optuna/optuna/releases/tag/v3.0.0. Use suggest_float instead.\n",
      "  'colsample_bytree': trial.suggest_uniform('colsample_bytree', 0.5, 0.8),\n"
     ]
    },
    {
     "name": "stdout",
     "output_type": "stream",
     "text": [
      "[I 2024-10-07 02:20:51,398] Trial 39 finished with value: 0.9099746452678185 and parameters: {'max_depth': 19, 'learning_rate': 0.1296796102213496, 'n_estimators': 259, 'min_child_weight': 1, 'gamma': 0.08487045949626248, 'subsample': 0.562636591342419, 'colsample_bytree': 0.5190272540107125, 'reg_alpha': 0.337669717046829, 'reg_lambda': 0.6993862874335939}. Best is trial 32 with value: 0.9112118482876506.\n"
     ]
    },
    {
     "name": "stderr",
     "output_type": "stream",
     "text": [
      "/var/folders/_n/r6v_878172qgdkkhlq7tz9pc0000gq/T/ipykernel_55586/2969005371.py:10: FutureWarning: suggest_uniform has been deprecated in v3.0.0. This feature will be removed in v6.0.0. See https://github.com/optuna/optuna/releases/tag/v3.0.0. Use suggest_float instead.\n",
      "  'subsample': trial.suggest_uniform('subsample', 0.5, 1.0),\n",
      "/var/folders/_n/r6v_878172qgdkkhlq7tz9pc0000gq/T/ipykernel_55586/2969005371.py:11: FutureWarning: suggest_uniform has been deprecated in v3.0.0. This feature will be removed in v6.0.0. See https://github.com/optuna/optuna/releases/tag/v3.0.0. Use suggest_float instead.\n",
      "  'colsample_bytree': trial.suggest_uniform('colsample_bytree', 0.5, 0.8),\n"
     ]
    },
    {
     "name": "stdout",
     "output_type": "stream",
     "text": [
      "[I 2024-10-07 02:28:40,895] Trial 40 finished with value: 0.9045082367573678 and parameters: {'max_depth': 19, 'learning_rate': 0.031843456940413364, 'n_estimators': 223, 'min_child_weight': 3, 'gamma': 0.17132906485635582, 'subsample': 0.6863557753692203, 'colsample_bytree': 0.520295517376566, 'reg_alpha': 0.12673996294114714, 'reg_lambda': 0.8747266318570625}. Best is trial 32 with value: 0.9112118482876506.\n"
     ]
    },
    {
     "name": "stderr",
     "output_type": "stream",
     "text": [
      "/var/folders/_n/r6v_878172qgdkkhlq7tz9pc0000gq/T/ipykernel_55586/2969005371.py:10: FutureWarning: suggest_uniform has been deprecated in v3.0.0. This feature will be removed in v6.0.0. See https://github.com/optuna/optuna/releases/tag/v3.0.0. Use suggest_float instead.\n",
      "  'subsample': trial.suggest_uniform('subsample', 0.5, 1.0),\n",
      "/var/folders/_n/r6v_878172qgdkkhlq7tz9pc0000gq/T/ipykernel_55586/2969005371.py:11: FutureWarning: suggest_uniform has been deprecated in v3.0.0. This feature will be removed in v6.0.0. See https://github.com/optuna/optuna/releases/tag/v3.0.0. Use suggest_float instead.\n",
      "  'colsample_bytree': trial.suggest_uniform('colsample_bytree', 0.5, 0.8),\n"
     ]
    },
    {
     "name": "stdout",
     "output_type": "stream",
     "text": [
      "[I 2024-10-07 02:35:38,123] Trial 41 finished with value: 0.9102145103055959 and parameters: {'max_depth': 20, 'learning_rate': 0.09064946315623798, 'n_estimators': 268, 'min_child_weight': 1, 'gamma': 0.09449061945966808, 'subsample': 0.6414133259065667, 'colsample_bytree': 0.5579828398616236, 'reg_alpha': 0.2335041982711693, 'reg_lambda': 0.806708483162621}. Best is trial 32 with value: 0.9112118482876506.\n"
     ]
    },
    {
     "name": "stderr",
     "output_type": "stream",
     "text": [
      "/var/folders/_n/r6v_878172qgdkkhlq7tz9pc0000gq/T/ipykernel_55586/2969005371.py:10: FutureWarning: suggest_uniform has been deprecated in v3.0.0. This feature will be removed in v6.0.0. See https://github.com/optuna/optuna/releases/tag/v3.0.0. Use suggest_float instead.\n",
      "  'subsample': trial.suggest_uniform('subsample', 0.5, 1.0),\n",
      "/var/folders/_n/r6v_878172qgdkkhlq7tz9pc0000gq/T/ipykernel_55586/2969005371.py:11: FutureWarning: suggest_uniform has been deprecated in v3.0.0. This feature will be removed in v6.0.0. See https://github.com/optuna/optuna/releases/tag/v3.0.0. Use suggest_float instead.\n",
      "  'colsample_bytree': trial.suggest_uniform('colsample_bytree', 0.5, 0.8),\n"
     ]
    },
    {
     "name": "stdout",
     "output_type": "stream",
     "text": [
      "[I 2024-10-07 02:39:28,658] Trial 42 finished with value: 0.9115905797393116 and parameters: {'max_depth': 17, 'learning_rate': 0.07971424152862015, 'n_estimators': 245, 'min_child_weight': 1, 'gamma': 0.2738134359033649, 'subsample': 0.6456653957614193, 'colsample_bytree': 0.509296736987739, 'reg_alpha': 0.2714477696492967, 'reg_lambda': 0.8831954373264005}. Best is trial 42 with value: 0.9115905797393116.\n"
     ]
    },
    {
     "name": "stderr",
     "output_type": "stream",
     "text": [
      "/var/folders/_n/r6v_878172qgdkkhlq7tz9pc0000gq/T/ipykernel_55586/2969005371.py:10: FutureWarning: suggest_uniform has been deprecated in v3.0.0. This feature will be removed in v6.0.0. See https://github.com/optuna/optuna/releases/tag/v3.0.0. Use suggest_float instead.\n",
      "  'subsample': trial.suggest_uniform('subsample', 0.5, 1.0),\n",
      "/var/folders/_n/r6v_878172qgdkkhlq7tz9pc0000gq/T/ipykernel_55586/2969005371.py:11: FutureWarning: suggest_uniform has been deprecated in v3.0.0. This feature will be removed in v6.0.0. See https://github.com/optuna/optuna/releases/tag/v3.0.0. Use suggest_float instead.\n",
      "  'colsample_bytree': trial.suggest_uniform('colsample_bytree', 0.5, 0.8),\n"
     ]
    },
    {
     "name": "stdout",
     "output_type": "stream",
     "text": [
      "[I 2024-10-07 02:43:03,172] Trial 43 finished with value: 0.9114517142817093 and parameters: {'max_depth': 17, 'learning_rate': 0.10976375122294371, 'n_estimators': 244, 'min_child_weight': 1, 'gamma': 0.2714177474873713, 'subsample': 0.7180014881097919, 'colsample_bytree': 0.5103217335065099, 'reg_alpha': 0.08636668242000375, 'reg_lambda': 0.8860489577099402}. Best is trial 42 with value: 0.9115905797393116.\n"
     ]
    },
    {
     "name": "stderr",
     "output_type": "stream",
     "text": [
      "/var/folders/_n/r6v_878172qgdkkhlq7tz9pc0000gq/T/ipykernel_55586/2969005371.py:10: FutureWarning: suggest_uniform has been deprecated in v3.0.0. This feature will be removed in v6.0.0. See https://github.com/optuna/optuna/releases/tag/v3.0.0. Use suggest_float instead.\n",
      "  'subsample': trial.suggest_uniform('subsample', 0.5, 1.0),\n",
      "/var/folders/_n/r6v_878172qgdkkhlq7tz9pc0000gq/T/ipykernel_55586/2969005371.py:11: FutureWarning: suggest_uniform has been deprecated in v3.0.0. This feature will be removed in v6.0.0. See https://github.com/optuna/optuna/releases/tag/v3.0.0. Use suggest_float instead.\n",
      "  'colsample_bytree': trial.suggest_uniform('colsample_bytree', 0.5, 0.8),\n"
     ]
    },
    {
     "name": "stdout",
     "output_type": "stream",
     "text": [
      "[I 2024-10-07 02:48:23,929] Trial 44 finished with value: 0.9112749647773324 and parameters: {'max_depth': 17, 'learning_rate': 0.036308449945482324, 'n_estimators': 236, 'min_child_weight': 1, 'gamma': 0.28074727624882556, 'subsample': 0.7146648385255326, 'colsample_bytree': 0.5012347620111973, 'reg_alpha': 0.07543099781512239, 'reg_lambda': 0.7751762886927301}. Best is trial 42 with value: 0.9115905797393116.\n"
     ]
    },
    {
     "name": "stderr",
     "output_type": "stream",
     "text": [
      "/var/folders/_n/r6v_878172qgdkkhlq7tz9pc0000gq/T/ipykernel_55586/2969005371.py:10: FutureWarning: suggest_uniform has been deprecated in v3.0.0. This feature will be removed in v6.0.0. See https://github.com/optuna/optuna/releases/tag/v3.0.0. Use suggest_float instead.\n",
      "  'subsample': trial.suggest_uniform('subsample', 0.5, 1.0),\n",
      "/var/folders/_n/r6v_878172qgdkkhlq7tz9pc0000gq/T/ipykernel_55586/2969005371.py:11: FutureWarning: suggest_uniform has been deprecated in v3.0.0. This feature will be removed in v6.0.0. See https://github.com/optuna/optuna/releases/tag/v3.0.0. Use suggest_float instead.\n",
      "  'colsample_bytree': trial.suggest_uniform('colsample_bytree', 0.5, 0.8),\n"
     ]
    },
    {
     "name": "stdout",
     "output_type": "stream",
     "text": [
      "[I 2024-10-07 02:53:51,814] Trial 45 finished with value: 0.9118809445671765 and parameters: {'max_depth': 17, 'learning_rate': 0.04157662628497938, 'n_estimators': 237, 'min_child_weight': 1, 'gamma': 0.27478348966202637, 'subsample': 0.713912663609672, 'colsample_bytree': 0.5052688805519626, 'reg_alpha': 0.0041858380380201815, 'reg_lambda': 0.7759354151038396}. Best is trial 45 with value: 0.9118809445671765.\n"
     ]
    },
    {
     "name": "stderr",
     "output_type": "stream",
     "text": [
      "/var/folders/_n/r6v_878172qgdkkhlq7tz9pc0000gq/T/ipykernel_55586/2969005371.py:10: FutureWarning: suggest_uniform has been deprecated in v3.0.0. This feature will be removed in v6.0.0. See https://github.com/optuna/optuna/releases/tag/v3.0.0. Use suggest_float instead.\n",
      "  'subsample': trial.suggest_uniform('subsample', 0.5, 1.0),\n",
      "/var/folders/_n/r6v_878172qgdkkhlq7tz9pc0000gq/T/ipykernel_55586/2969005371.py:11: FutureWarning: suggest_uniform has been deprecated in v3.0.0. This feature will be removed in v6.0.0. See https://github.com/optuna/optuna/releases/tag/v3.0.0. Use suggest_float instead.\n",
      "  'colsample_bytree': trial.suggest_uniform('colsample_bytree', 0.5, 0.8),\n"
     ]
    },
    {
     "name": "stdout",
     "output_type": "stream",
     "text": [
      "[I 2024-10-07 02:59:18,125] Trial 46 finished with value: 0.9015162175516555 and parameters: {'max_depth': 17, 'learning_rate': 0.040614581483509125, 'n_estimators': 229, 'min_child_weight': 6, 'gamma': 0.35686575426833955, 'subsample': 0.7190180402382732, 'colsample_bytree': 0.5066360761305544, 'reg_alpha': 0.015145778687963733, 'reg_lambda': 0.0003866222736128022}. Best is trial 45 with value: 0.9118809445671765.\n"
     ]
    },
    {
     "name": "stderr",
     "output_type": "stream",
     "text": [
      "/var/folders/_n/r6v_878172qgdkkhlq7tz9pc0000gq/T/ipykernel_55586/2969005371.py:10: FutureWarning: suggest_uniform has been deprecated in v3.0.0. This feature will be removed in v6.0.0. See https://github.com/optuna/optuna/releases/tag/v3.0.0. Use suggest_float instead.\n",
      "  'subsample': trial.suggest_uniform('subsample', 0.5, 1.0),\n",
      "/var/folders/_n/r6v_878172qgdkkhlq7tz9pc0000gq/T/ipykernel_55586/2969005371.py:11: FutureWarning: suggest_uniform has been deprecated in v3.0.0. This feature will be removed in v6.0.0. See https://github.com/optuna/optuna/releases/tag/v3.0.0. Use suggest_float instead.\n",
      "  'colsample_bytree': trial.suggest_uniform('colsample_bytree', 0.5, 0.8),\n"
     ]
    },
    {
     "name": "stdout",
     "output_type": "stream",
     "text": [
      "[I 2024-10-07 03:03:08,092] Trial 47 finished with value: 0.9077906030997377 and parameters: {'max_depth': 16, 'learning_rate': 0.07625486316363086, 'n_estimators': 200, 'min_child_weight': 2, 'gamma': 0.31549517105175784, 'subsample': 0.6755835697331426, 'colsample_bytree': 0.506284030968379, 'reg_alpha': 0.07224225044751963, 'reg_lambda': 0.6248328486952562}. Best is trial 45 with value: 0.9118809445671765.\n"
     ]
    },
    {
     "name": "stderr",
     "output_type": "stream",
     "text": [
      "/var/folders/_n/r6v_878172qgdkkhlq7tz9pc0000gq/T/ipykernel_55586/2969005371.py:10: FutureWarning: suggest_uniform has been deprecated in v3.0.0. This feature will be removed in v6.0.0. See https://github.com/optuna/optuna/releases/tag/v3.0.0. Use suggest_float instead.\n",
      "  'subsample': trial.suggest_uniform('subsample', 0.5, 1.0),\n",
      "/var/folders/_n/r6v_878172qgdkkhlq7tz9pc0000gq/T/ipykernel_55586/2969005371.py:11: FutureWarning: suggest_uniform has been deprecated in v3.0.0. This feature will be removed in v6.0.0. See https://github.com/optuna/optuna/releases/tag/v3.0.0. Use suggest_float instead.\n",
      "  'colsample_bytree': trial.suggest_uniform('colsample_bytree', 0.5, 0.8),\n"
     ]
    },
    {
     "name": "stdout",
     "output_type": "stream",
     "text": [
      "[I 2024-10-07 03:05:37,752] Trial 48 finished with value: 0.9101513823405364 and parameters: {'max_depth': 15, 'learning_rate': 0.1412508803440929, 'n_estimators': 243, 'min_child_weight': 1, 'gamma': 0.40559987072242165, 'subsample': 0.7200341625922887, 'colsample_bytree': 0.5269377095286958, 'reg_alpha': 0.0410491209798897, 'reg_lambda': 0.6980301212766926}. Best is trial 45 with value: 0.9118809445671765.\n"
     ]
    },
    {
     "name": "stderr",
     "output_type": "stream",
     "text": [
      "/var/folders/_n/r6v_878172qgdkkhlq7tz9pc0000gq/T/ipykernel_55586/2969005371.py:10: FutureWarning: suggest_uniform has been deprecated in v3.0.0. This feature will be removed in v6.0.0. See https://github.com/optuna/optuna/releases/tag/v3.0.0. Use suggest_float instead.\n",
      "  'subsample': trial.suggest_uniform('subsample', 0.5, 1.0),\n",
      "/var/folders/_n/r6v_878172qgdkkhlq7tz9pc0000gq/T/ipykernel_55586/2969005371.py:11: FutureWarning: suggest_uniform has been deprecated in v3.0.0. This feature will be removed in v6.0.0. See https://github.com/optuna/optuna/releases/tag/v3.0.0. Use suggest_float instead.\n",
      "  'colsample_bytree': trial.suggest_uniform('colsample_bytree', 0.5, 0.8),\n"
     ]
    },
    {
     "name": "stdout",
     "output_type": "stream",
     "text": [
      "[I 2024-10-07 03:10:27,287] Trial 49 finished with value: 0.906553421118098 and parameters: {'max_depth': 18, 'learning_rate': 0.07283057446751673, 'n_estimators': 232, 'min_child_weight': 3, 'gamma': 0.27324113413336043, 'subsample': 0.7705919477529705, 'colsample_bytree': 0.5011762590663685, 'reg_alpha': 0.18949199617352003, 'reg_lambda': 0.7733250510204243}. Best is trial 45 with value: 0.9118809445671765.\n"
     ]
    }
   ],
   "source": [
    "# Create an Optuna study and optimize the objective function\n",
    "study = optuna.create_study(direction='maximize')\n",
    "study.optimize(objective, n_trials=50, show_progress_bar=True)"
   ]
  },
  {
   "cell_type": "code",
   "execution_count": 12,
   "metadata": {},
   "outputs": [
    {
     "data": {
      "text/plain": [
       "{'max_depth': 17,\n",
       " 'learning_rate': 0.04157662628497938,\n",
       " 'n_estimators': 237,\n",
       " 'min_child_weight': 1,\n",
       " 'gamma': 0.27478348966202637,\n",
       " 'subsample': 0.713912663609672,\n",
       " 'colsample_bytree': 0.5052688805519626,\n",
       " 'reg_alpha': 0.0041858380380201815,\n",
       " 'reg_lambda': 0.7759354151038396}"
      ]
     },
     "execution_count": 12,
     "metadata": {},
     "output_type": "execute_result"
    }
   ],
   "source": [
    "study.best_params"
   ]
  },
  {
   "cell_type": "markdown",
   "metadata": {},
   "source": [
    "### **Best params**"
   ]
  },
  {
   "cell_type": "code",
   "execution_count": 24,
   "metadata": {},
   "outputs": [],
   "source": [
    "# best_params = {'max_depth': 10, \n",
    "#                'learning_rate': 0.13340751917009136, \n",
    "#                'n_estimators': 262, \n",
    "#                'min_child_weight': 1, \n",
    "#                'gamma': 0.21217290321736526, \n",
    "#                'subsample': 0.9891830695807934, \n",
    "#                'colsample_bytree': 0.5269533861847706, \n",
    "#                'reg_alpha': 0.7767916720825168, \n",
    "#                'reg_lambda': 0.4022821656006917,\n",
    "#                'enable_categorical': True,\n",
    "#                }\n",
    "\n",
    "# model = xgb.XGBClassifier(**best_params)\n",
    "# model.fit(X_train, y_train)"
   ]
  },
  {
   "cell_type": "code",
   "execution_count": 13,
   "metadata": {},
   "outputs": [
    {
     "data": {
      "text/plain": [
       "XGBClassifier(base_score=None, booster=None, callbacks=None,\n",
       "              colsample_bylevel=None, colsample_bynode=None,\n",
       "              colsample_bytree=0.5052688805519626, device=None,\n",
       "              early_stopping_rounds=None, enable_categorical=True,\n",
       "              eval_metric=None, feature_types=None, gamma=0.27478348966202637,\n",
       "              grow_policy=None, importance_type=None,\n",
       "              interaction_constraints=None, learning_rate=0.04157662628497938,\n",
       "              max_bin=None, max_cat_threshold=None, max_cat_to_onehot=None,\n",
       "              max_delta_step=None, max_depth=17, max_leaves=None,\n",
       "              min_child_weight=1, missing=nan, monotone_constraints=None,\n",
       "              multi_strategy=None, n_estimators=237, n_jobs=None,\n",
       "              num_parallel_tree=None, random_state=None, ...)"
      ]
     },
     "execution_count": 13,
     "metadata": {},
     "output_type": "execute_result"
    }
   ],
   "source": [
    "best_params = {'max_depth': 17,\n",
    "    'learning_rate': 0.04157662628497938,\n",
    "    'n_estimators': 237,\n",
    "    'min_child_weight': 1,\n",
    "    'gamma': 0.27478348966202637,\n",
    "    'subsample': 0.713912663609672,\n",
    "    'colsample_bytree': 0.5052688805519626,\n",
    "    'reg_alpha': 0.0041858380380201815,\n",
    "    'reg_lambda': 0.7759354151038396,\n",
    "    'enable_categorical': True,\n",
    "    }\n",
    "\n",
    "model = xgb.XGBClassifier(**best_params)\n",
    "model.fit(X_train, y_train)"
   ]
  },
  {
   "cell_type": "markdown",
   "metadata": {},
   "source": [
    "### **Model Metrics**"
   ]
  },
  {
   "cell_type": "markdown",
   "metadata": {},
   "source": [
    "#### **Accuracy**"
   ]
  },
  {
   "cell_type": "code",
   "execution_count": 15,
   "metadata": {},
   "outputs": [
    {
     "name": "stdout",
     "output_type": "stream",
     "text": [
      "0.883956976215725\n",
      "0.8918633716633138\n"
     ]
    }
   ],
   "source": [
    "# X_test\n",
    "# preds = model.predict(X_test)\n",
    "accuracy_X_test = cross_val_score(model, X_test, y_test, cv=3, scoring='accuracy').mean()\n",
    "\n",
    "# X\n",
    "accuracy_X = cross_val_score(model, X, y, cv=3, scoring='accuracy').mean()\n",
    "\n",
    "print(accuracy_X_test)\n",
    "print(accuracy_X)"
   ]
  },
  {
   "cell_type": "markdown",
   "metadata": {},
   "source": [
    "#### **Precision**"
   ]
  },
  {
   "cell_type": "code",
   "execution_count": 16,
   "metadata": {},
   "outputs": [
    {
     "name": "stdout",
     "output_type": "stream",
     "text": [
      "0.8957068529446709\n",
      "0.8825279574520312\n"
     ]
    }
   ],
   "source": [
    "# X_test\n",
    "# preds = model.predict(X_test)\n",
    "precision_X_test = cross_val_score(model, X_test, y_test, cv=3, scoring='precision').mean()\n",
    "\n",
    "# X\n",
    "precision_X = cross_val_score(model, X, y, cv=3, scoring='precision').mean()\n",
    "\n",
    "print(precision_X_test)\n",
    "print(precision_X)"
   ]
  },
  {
   "cell_type": "code",
   "execution_count": 17,
   "metadata": {},
   "outputs": [
    {
     "data": {
      "text/plain": [
       "array([[8365,  840],\n",
       "       [ 855, 9743]])"
      ]
     },
     "execution_count": 17,
     "metadata": {},
     "output_type": "execute_result"
    }
   ],
   "source": [
    "conf_matrix = confusion_matrix(y_test, preds)\n",
    "conf_matrix"
   ]
  },
  {
   "cell_type": "markdown",
   "metadata": {},
   "source": [
    "### **Store model**"
   ]
  },
  {
   "cell_type": "code",
   "execution_count": 25,
   "metadata": {},
   "outputs": [],
   "source": [
    "# Save the model\n",
    "with open('../models/xgboost_all_variables.pickle', 'wb') as f:\n",
    "    pickle.dump(model, f)"
   ]
  },
  {
   "cell_type": "markdown",
   "metadata": {},
   "source": [
    "### **Loading model**"
   ]
  },
  {
   "cell_type": "code",
   "execution_count": null,
   "metadata": {},
   "outputs": [],
   "source": [
    "# Load the model\n",
    "with open('../models/xgboost_all_variables.pickle', 'rb') as f:\n",
    "    model = pickle.load(f)"
   ]
  },
  {
   "cell_type": "markdown",
   "metadata": {},
   "source": [
    "### **Evaluation**"
   ]
  },
  {
   "cell_type": "code",
   "execution_count": 18,
   "metadata": {},
   "outputs": [],
   "source": [
    "# Create explainer\n",
    "explainer = shap.Explainer(model)\n",
    "\n",
    "# Get hsap values\n",
    "shap_values = explainer(X_test)"
   ]
  },
  {
   "cell_type": "code",
   "execution_count": 53,
   "metadata": {},
   "outputs": [
    {
     "data": {
      "image/png": "[encoded data removed]",
      "text/plain": [
       "<Figure size 800x650 with 3 Axes>"
      ]
     },
     "metadata": {},
     "output_type": "display_data"
    }
   ],
   "source": [
    "shap.plots.waterfall(shap_values[1])"
   ]
  },
  {
   "cell_type": "code",
   "execution_count": 20,
   "metadata": {},
   "outputs": [
    {
     "data": {
      "image/png": "[encoded data removed]",
      "text/plain": [
       "<Figure size 800x950 with 2 Axes>"
      ]
     },
     "metadata": {},
     "output_type": "display_data"
    }
   ],
   "source": [
    "# Visualize the SHAP values for the entire dataset\n",
    "shap.summary_plot(shap_values, X_test)"
   ]
  },
  {
   "cell_type": "code",
   "execution_count": 29,
   "metadata": {},
   "outputs": [
    {
     "data": {
      "image/png": "[encoded data removed]",
      "text/plain": [
       "<Figure size 800x650 with 1 Axes>"
      ]
     },
     "metadata": {},
     "output_type": "display_data"
    }
   ],
   "source": [
    "# Valor absoluto de los shap values\n",
    "shap_values_abs = np.abs(shap_values.values)\n",
    "\n",
    "shap_values_abs_obj = shap.Explanation(values=shap_values_abs, \n",
    "                                       base_values=shap_values.base_values, \n",
    "                                       data=shap_values.data, \n",
    "                                       feature_names=shap_values.feature_names)\n",
    "\n",
    "shap.plots.bar(shap_values_abs_obj)"
   ]
  },
  {
   "cell_type": "markdown",
   "metadata": {},
   "source": [
    "### **Selection of variables**"
   ]
  },
  {
   "cell_type": "code",
   "execution_count": 30,
   "metadata": {},
   "outputs": [],
   "source": [
    "# Create a df for the shap values\n",
    "shap_values_df = pd.DataFrame(shap_values.values, columns=shap_values.feature_names)"
   ]
  },
  {
   "cell_type": "code",
   "execution_count": 36,
   "metadata": {},
   "outputs": [
    {
     "data": {
      "text/html": [
       "<div>\n",
       "<style scoped>\n",
       "    .dataframe tbody tr th:only-of-type {\n",
       "        vertical-align: middle;\n",
       "    }\n",
       "\n",
       "    .dataframe tbody tr th {\n",
       "        vertical-align: top;\n",
       "    }\n",
       "\n",
       "    .dataframe thead th {\n",
       "        text-align: right;\n",
       "    }\n",
       "</style>\n",
       "<table border=\"1\" class=\"dataframe\">\n",
       "  <thead>\n",
       "    <tr style=\"text-align: right;\">\n",
       "      <th></th>\n",
       "      <th>warranty</th>\n",
       "      <th>sub_status</th>\n",
       "      <th>deal_ids</th>\n",
       "      <th>base_price</th>\n",
       "      <th>seller_id</th>\n",
       "      <th>listing_type_id</th>\n",
       "      <th>price</th>\n",
       "      <th>buying_mode</th>\n",
       "      <th>parent_item_id</th>\n",
       "      <th>category_id</th>\n",
       "      <th>official_store_id</th>\n",
       "      <th>accepts_mercadopago</th>\n",
       "      <th>original_price</th>\n",
       "      <th>currency_id</th>\n",
       "      <th>automatic_relist</th>\n",
       "      <th>status</th>\n",
       "      <th>initial_quantity</th>\n",
       "      <th>sold_quantity</th>\n",
       "      <th>available_quantity</th>\n",
       "      <th>seller_address.longitude</th>\n",
       "      <th>seller_address.id</th>\n",
       "      <th>seller_address.address_line</th>\n",
       "      <th>seller_address.latitude</th>\n",
       "      <th>seller_address.search_location.neighborhood.id</th>\n",
       "      <th>seller_address.search_location.state.id</th>\n",
       "      <th>seller_address.search_location.city.id</th>\n",
       "      <th>seller_address.zip_code</th>\n",
       "      <th>seller_address.city.id</th>\n",
       "      <th>seller_address.state.id</th>\n",
       "      <th>shipping.local_pick_up</th>\n",
       "      <th>shipping.tags</th>\n",
       "      <th>shipping.mode</th>\n",
       "      <th>shipping.free_methods</th>\n",
       "      <th>seller_contact.phone2</th>\n",
       "      <th>seller_contact.webpage</th>\n",
       "      <th>seller_contact.email</th>\n",
       "      <th>seller_contact.contact</th>\n",
       "      <th>seller_contact.area_code</th>\n",
       "      <th>seller_contact.other_info</th>\n",
       "      <th>seller_contact.phone</th>\n",
       "      <th>location.open_hours</th>\n",
       "      <th>location.neighborhood.id</th>\n",
       "      <th>location.longitude</th>\n",
       "      <th>location.address_line</th>\n",
       "      <th>location.latitude</th>\n",
       "      <th>location.city.id</th>\n",
       "      <th>location.state.id</th>\n",
       "      <th>non_mercado_pago_payment_methods.MLAWC</th>\n",
       "      <th>non_mercado_pago_payment_methods.MLACD</th>\n",
       "      <th>non_mercado_pago_payment_methods.MLAVS</th>\n",
       "      <th>non_mercado_pago_payment_methods.MLAMO</th>\n",
       "      <th>non_mercado_pago_payment_methods.MLADC</th>\n",
       "      <th>non_mercado_pago_payment_methods.MLAMP</th>\n",
       "      <th>non_mercado_pago_payment_methods.MLAMC</th>\n",
       "      <th>non_mercado_pago_payment_methods.MLABC</th>\n",
       "      <th>non_mercado_pago_payment_methods.MLAOT</th>\n",
       "      <th>non_mercado_pago_payment_methods.MLAAM</th>\n",
       "      <th>non_mercado_pago_payment_methods.MLAWT</th>\n",
       "      <th>non_mercado_pago_payment_methods.MLAVE</th>\n",
       "      <th>non_mercado_pago_payment_methods.MLATB</th>\n",
       "      <th>non_mercado_pago_payment_methods.MLAMS</th>\n",
       "      <th>tags.good_quality_thumbnail</th>\n",
       "      <th>tags.dragged_visits</th>\n",
       "      <th>tags.free_relist</th>\n",
       "      <th>tags.dragged_bids_and_visits</th>\n",
       "      <th>tags.poor_quality_thumbnail</th>\n",
       "      <th>pictures.large</th>\n",
       "      <th>pictures.medium</th>\n",
       "      <th>pictures.small</th>\n",
       "      <th>title.new</th>\n",
       "      <th>video</th>\n",
       "      <th>seller_address.product_count</th>\n",
       "    </tr>\n",
       "  </thead>\n",
       "  <tbody>\n",
       "    <tr>\n",
       "      <th>0</th>\n",
       "      <td>-0.032497</td>\n",
       "      <td>-0.000035</td>\n",
       "      <td>0.0</td>\n",
       "      <td>-0.019436</td>\n",
       "      <td>0.079400</td>\n",
       "      <td>-3.189033</td>\n",
       "      <td>0.007691</td>\n",
       "      <td>0.006574</td>\n",
       "      <td>-0.000301</td>\n",
       "      <td>0.191822</td>\n",
       "      <td>0.000003</td>\n",
       "      <td>0.001013</td>\n",
       "      <td>0.0</td>\n",
       "      <td>-0.000189</td>\n",
       "      <td>-0.006823</td>\n",
       "      <td>-0.002735</td>\n",
       "      <td>-0.330307</td>\n",
       "      <td>-0.105878</td>\n",
       "      <td>-0.123087</td>\n",
       "      <td>-0.033150</td>\n",
       "      <td>0.065501</td>\n",
       "      <td>0.000205</td>\n",
       "      <td>-0.078614</td>\n",
       "      <td>0.181907</td>\n",
       "      <td>-0.043359</td>\n",
       "      <td>-0.091939</td>\n",
       "      <td>0.000069</td>\n",
       "      <td>-0.056915</td>\n",
       "      <td>-0.008281</td>\n",
       "      <td>0.012032</td>\n",
       "      <td>0.0</td>\n",
       "      <td>-0.010195</td>\n",
       "      <td>-0.005550</td>\n",
       "      <td>0.000241</td>\n",
       "      <td>-0.000007</td>\n",
       "      <td>-0.002372</td>\n",
       "      <td>0.006006</td>\n",
       "      <td>0.000054</td>\n",
       "      <td>0.0</td>\n",
       "      <td>0.0</td>\n",
       "      <td>0.0</td>\n",
       "      <td>-0.001213</td>\n",
       "      <td>-0.000048</td>\n",
       "      <td>0.0</td>\n",
       "      <td>-0.000144</td>\n",
       "      <td>0.001197</td>\n",
       "      <td>0.004173</td>\n",
       "      <td>0.003860</td>\n",
       "      <td>-0.000112</td>\n",
       "      <td>4.295149e-06</td>\n",
       "      <td>-0.028913</td>\n",
       "      <td>-0.000016</td>\n",
       "      <td>-0.000032</td>\n",
       "      <td>-0.000019</td>\n",
       "      <td>0.000011</td>\n",
       "      <td>-0.041784</td>\n",
       "      <td>-0.000025</td>\n",
       "      <td>0.001144</td>\n",
       "      <td>-0.000064</td>\n",
       "      <td>-0.026707</td>\n",
       "      <td>-0.000051</td>\n",
       "      <td>0.000569</td>\n",
       "      <td>-0.001824</td>\n",
       "      <td>0.001116</td>\n",
       "      <td>-0.185743</td>\n",
       "      <td>0.0</td>\n",
       "      <td>0.229320</td>\n",
       "      <td>-0.066078</td>\n",
       "      <td>-0.036882</td>\n",
       "      <td>-0.050483</td>\n",
       "      <td>-0.004813</td>\n",
       "      <td>-0.312170</td>\n",
       "    </tr>\n",
       "    <tr>\n",
       "      <th>1</th>\n",
       "      <td>1.157464</td>\n",
       "      <td>0.000440</td>\n",
       "      <td>0.0</td>\n",
       "      <td>0.353068</td>\n",
       "      <td>0.132633</td>\n",
       "      <td>1.069192</td>\n",
       "      <td>0.197681</td>\n",
       "      <td>0.005487</td>\n",
       "      <td>-0.000246</td>\n",
       "      <td>0.069519</td>\n",
       "      <td>0.000057</td>\n",
       "      <td>0.000991</td>\n",
       "      <td>0.0</td>\n",
       "      <td>-0.000086</td>\n",
       "      <td>-0.006428</td>\n",
       "      <td>0.005312</td>\n",
       "      <td>1.250024</td>\n",
       "      <td>0.812375</td>\n",
       "      <td>0.614149</td>\n",
       "      <td>0.071757</td>\n",
       "      <td>0.102656</td>\n",
       "      <td>0.000149</td>\n",
       "      <td>0.054515</td>\n",
       "      <td>-0.016950</td>\n",
       "      <td>0.029031</td>\n",
       "      <td>0.122424</td>\n",
       "      <td>-0.000218</td>\n",
       "      <td>0.123535</td>\n",
       "      <td>0.008732</td>\n",
       "      <td>0.014660</td>\n",
       "      <td>0.0</td>\n",
       "      <td>-0.134156</td>\n",
       "      <td>-0.004230</td>\n",
       "      <td>0.000314</td>\n",
       "      <td>0.000028</td>\n",
       "      <td>-0.000894</td>\n",
       "      <td>0.008157</td>\n",
       "      <td>0.000006</td>\n",
       "      <td>0.0</td>\n",
       "      <td>0.0</td>\n",
       "      <td>0.0</td>\n",
       "      <td>-0.001108</td>\n",
       "      <td>0.000005</td>\n",
       "      <td>0.0</td>\n",
       "      <td>-0.000058</td>\n",
       "      <td>0.001930</td>\n",
       "      <td>0.003533</td>\n",
       "      <td>0.009795</td>\n",
       "      <td>0.000024</td>\n",
       "      <td>-1.604759e-06</td>\n",
       "      <td>-0.009758</td>\n",
       "      <td>-0.000039</td>\n",
       "      <td>-0.000023</td>\n",
       "      <td>-0.000062</td>\n",
       "      <td>0.000316</td>\n",
       "      <td>0.189919</td>\n",
       "      <td>-0.000028</td>\n",
       "      <td>0.000756</td>\n",
       "      <td>-0.000071</td>\n",
       "      <td>0.099042</td>\n",
       "      <td>-0.000108</td>\n",
       "      <td>0.001424</td>\n",
       "      <td>-0.001697</td>\n",
       "      <td>0.001351</td>\n",
       "      <td>-0.023799</td>\n",
       "      <td>0.0</td>\n",
       "      <td>0.079031</td>\n",
       "      <td>-0.033158</td>\n",
       "      <td>-0.020019</td>\n",
       "      <td>-0.030758</td>\n",
       "      <td>-0.001067</td>\n",
       "      <td>0.219529</td>\n",
       "    </tr>\n",
       "    <tr>\n",
       "      <th>2</th>\n",
       "      <td>-0.023745</td>\n",
       "      <td>-0.000323</td>\n",
       "      <td>0.0</td>\n",
       "      <td>0.287946</td>\n",
       "      <td>0.756335</td>\n",
       "      <td>1.020277</td>\n",
       "      <td>0.211210</td>\n",
       "      <td>0.005160</td>\n",
       "      <td>-0.000300</td>\n",
       "      <td>-0.302572</td>\n",
       "      <td>0.000003</td>\n",
       "      <td>0.001089</td>\n",
       "      <td>0.0</td>\n",
       "      <td>0.000141</td>\n",
       "      <td>-0.003983</td>\n",
       "      <td>-0.003090</td>\n",
       "      <td>-0.309376</td>\n",
       "      <td>0.469019</td>\n",
       "      <td>-0.123003</td>\n",
       "      <td>0.006566</td>\n",
       "      <td>0.430903</td>\n",
       "      <td>0.000133</td>\n",
       "      <td>0.082121</td>\n",
       "      <td>0.023226</td>\n",
       "      <td>0.011771</td>\n",
       "      <td>0.015934</td>\n",
       "      <td>-0.000591</td>\n",
       "      <td>0.063359</td>\n",
       "      <td>-0.006938</td>\n",
       "      <td>-0.042583</td>\n",
       "      <td>0.0</td>\n",
       "      <td>0.146279</td>\n",
       "      <td>0.452013</td>\n",
       "      <td>0.000219</td>\n",
       "      <td>-0.000006</td>\n",
       "      <td>-0.001818</td>\n",
       "      <td>0.012553</td>\n",
       "      <td>0.000224</td>\n",
       "      <td>0.0</td>\n",
       "      <td>0.0</td>\n",
       "      <td>0.0</td>\n",
       "      <td>-0.000945</td>\n",
       "      <td>0.000289</td>\n",
       "      <td>0.0</td>\n",
       "      <td>0.000336</td>\n",
       "      <td>0.001058</td>\n",
       "      <td>0.004322</td>\n",
       "      <td>0.011749</td>\n",
       "      <td>-0.000121</td>\n",
       "      <td>8.187064e-06</td>\n",
       "      <td>-0.020417</td>\n",
       "      <td>-0.000013</td>\n",
       "      <td>-0.000022</td>\n",
       "      <td>-0.000048</td>\n",
       "      <td>0.000027</td>\n",
       "      <td>-0.047585</td>\n",
       "      <td>-0.000046</td>\n",
       "      <td>0.001062</td>\n",
       "      <td>-0.000061</td>\n",
       "      <td>-0.069615</td>\n",
       "      <td>-0.000075</td>\n",
       "      <td>0.001645</td>\n",
       "      <td>-0.001419</td>\n",
       "      <td>0.001267</td>\n",
       "      <td>-0.067110</td>\n",
       "      <td>0.0</td>\n",
       "      <td>0.348961</td>\n",
       "      <td>-0.007405</td>\n",
       "      <td>0.817269</td>\n",
       "      <td>-0.046524</td>\n",
       "      <td>-0.003314</td>\n",
       "      <td>0.036449</td>\n",
       "    </tr>\n",
       "    <tr>\n",
       "      <th>3</th>\n",
       "      <td>-0.039933</td>\n",
       "      <td>-0.000064</td>\n",
       "      <td>0.0</td>\n",
       "      <td>0.001748</td>\n",
       "      <td>0.115369</td>\n",
       "      <td>0.956281</td>\n",
       "      <td>-0.048857</td>\n",
       "      <td>0.012752</td>\n",
       "      <td>-0.000362</td>\n",
       "      <td>2.114824</td>\n",
       "      <td>0.000007</td>\n",
       "      <td>0.001871</td>\n",
       "      <td>0.0</td>\n",
       "      <td>-0.000129</td>\n",
       "      <td>-0.008363</td>\n",
       "      <td>0.004284</td>\n",
       "      <td>0.528073</td>\n",
       "      <td>0.264215</td>\n",
       "      <td>-0.118590</td>\n",
       "      <td>0.095058</td>\n",
       "      <td>0.093449</td>\n",
       "      <td>0.000140</td>\n",
       "      <td>-0.003187</td>\n",
       "      <td>-0.025215</td>\n",
       "      <td>0.033103</td>\n",
       "      <td>0.046428</td>\n",
       "      <td>-0.000432</td>\n",
       "      <td>0.024924</td>\n",
       "      <td>0.007791</td>\n",
       "      <td>0.018908</td>\n",
       "      <td>0.0</td>\n",
       "      <td>-0.141218</td>\n",
       "      <td>-0.002708</td>\n",
       "      <td>0.000442</td>\n",
       "      <td>0.000184</td>\n",
       "      <td>0.000618</td>\n",
       "      <td>0.008596</td>\n",
       "      <td>-0.000272</td>\n",
       "      <td>0.0</td>\n",
       "      <td>0.0</td>\n",
       "      <td>0.0</td>\n",
       "      <td>-0.001160</td>\n",
       "      <td>-0.000239</td>\n",
       "      <td>0.0</td>\n",
       "      <td>-0.000132</td>\n",
       "      <td>0.002571</td>\n",
       "      <td>0.007964</td>\n",
       "      <td>0.007798</td>\n",
       "      <td>-0.000051</td>\n",
       "      <td>8.381121e-07</td>\n",
       "      <td>-0.044948</td>\n",
       "      <td>-0.000038</td>\n",
       "      <td>-0.000022</td>\n",
       "      <td>-0.000059</td>\n",
       "      <td>0.000014</td>\n",
       "      <td>-0.065721</td>\n",
       "      <td>-0.000032</td>\n",
       "      <td>0.000665</td>\n",
       "      <td>-0.000080</td>\n",
       "      <td>0.165153</td>\n",
       "      <td>-0.000038</td>\n",
       "      <td>0.000990</td>\n",
       "      <td>-0.001864</td>\n",
       "      <td>0.001432</td>\n",
       "      <td>0.106549</td>\n",
       "      <td>0.0</td>\n",
       "      <td>0.071033</td>\n",
       "      <td>0.331106</td>\n",
       "      <td>-0.029082</td>\n",
       "      <td>-0.038673</td>\n",
       "      <td>-0.004834</td>\n",
       "      <td>-0.112223</td>\n",
       "    </tr>\n",
       "    <tr>\n",
       "      <th>4</th>\n",
       "      <td>-0.023722</td>\n",
       "      <td>-0.000147</td>\n",
       "      <td>0.0</td>\n",
       "      <td>0.075725</td>\n",
       "      <td>0.107747</td>\n",
       "      <td>1.056036</td>\n",
       "      <td>0.041854</td>\n",
       "      <td>0.004787</td>\n",
       "      <td>-0.000300</td>\n",
       "      <td>0.239414</td>\n",
       "      <td>0.000335</td>\n",
       "      <td>-0.000983</td>\n",
       "      <td>0.0</td>\n",
       "      <td>-0.000121</td>\n",
       "      <td>-0.007416</td>\n",
       "      <td>0.003476</td>\n",
       "      <td>1.196793</td>\n",
       "      <td>1.069461</td>\n",
       "      <td>0.438029</td>\n",
       "      <td>-0.014566</td>\n",
       "      <td>0.082337</td>\n",
       "      <td>0.000137</td>\n",
       "      <td>0.057567</td>\n",
       "      <td>-0.025616</td>\n",
       "      <td>-0.119255</td>\n",
       "      <td>-0.002679</td>\n",
       "      <td>-0.000150</td>\n",
       "      <td>0.002871</td>\n",
       "      <td>-0.010473</td>\n",
       "      <td>0.006661</td>\n",
       "      <td>0.0</td>\n",
       "      <td>0.249920</td>\n",
       "      <td>-0.003359</td>\n",
       "      <td>0.000379</td>\n",
       "      <td>0.000020</td>\n",
       "      <td>-0.001099</td>\n",
       "      <td>0.007569</td>\n",
       "      <td>-0.000026</td>\n",
       "      <td>0.0</td>\n",
       "      <td>0.0</td>\n",
       "      <td>0.0</td>\n",
       "      <td>-0.000829</td>\n",
       "      <td>0.000060</td>\n",
       "      <td>0.0</td>\n",
       "      <td>-0.000017</td>\n",
       "      <td>0.000777</td>\n",
       "      <td>0.003107</td>\n",
       "      <td>0.007610</td>\n",
       "      <td>-0.000178</td>\n",
       "      <td>1.830781e-04</td>\n",
       "      <td>-0.008985</td>\n",
       "      <td>-0.000013</td>\n",
       "      <td>-0.000017</td>\n",
       "      <td>-0.000029</td>\n",
       "      <td>0.000238</td>\n",
       "      <td>0.208890</td>\n",
       "      <td>-0.000027</td>\n",
       "      <td>0.000824</td>\n",
       "      <td>-0.000047</td>\n",
       "      <td>0.125654</td>\n",
       "      <td>-0.000077</td>\n",
       "      <td>0.002195</td>\n",
       "      <td>-0.001468</td>\n",
       "      <td>0.001216</td>\n",
       "      <td>-0.055292</td>\n",
       "      <td>0.0</td>\n",
       "      <td>-0.212440</td>\n",
       "      <td>-0.045403</td>\n",
       "      <td>-0.018956</td>\n",
       "      <td>0.724927</td>\n",
       "      <td>-0.004723</td>\n",
       "      <td>0.037688</td>\n",
       "    </tr>\n",
       "  </tbody>\n",
       "</table>\n",
       "</div>"
      ],
      "text/plain": [
       "   warranty  sub_status  deal_ids  base_price  seller_id  listing_type_id  \\\n",
       "0 -0.032497   -0.000035       0.0   -0.019436   0.079400        -3.189033   \n",
       "1  1.157464    0.000440       0.0    0.353068   0.132633         1.069192   \n",
       "2 -0.023745   -0.000323       0.0    0.287946   0.756335         1.020277   \n",
       "3 -0.039933   -0.000064       0.0    0.001748   0.115369         0.956281   \n",
       "4 -0.023722   -0.000147       0.0    0.075725   0.107747         1.056036   \n",
       "\n",
       "      price  buying_mode  parent_item_id  category_id  official_store_id  \\\n",
       "0  0.007691     0.006574       -0.000301     0.191822           0.000003   \n",
       "1  0.197681     0.005487       -0.000246     0.069519           0.000057   \n",
       "2  0.211210     0.005160       -0.000300    -0.302572           0.000003   \n",
       "3 -0.048857     0.012752       -0.000362     2.114824           0.000007   \n",
       "4  0.041854     0.004787       -0.000300     0.239414           0.000335   \n",
       "\n",
       "   accepts_mercadopago  original_price  currency_id  automatic_relist  \\\n",
       "0             0.001013             0.0    -0.000189         -0.006823   \n",
       "1             0.000991             0.0    -0.000086         -0.006428   \n",
       "2             0.001089             0.0     0.000141         -0.003983   \n",
       "3             0.001871             0.0    -0.000129         -0.008363   \n",
       "4            -0.000983             0.0    -0.000121         -0.007416   \n",
       "\n",
       "     status  initial_quantity  sold_quantity  available_quantity  \\\n",
       "0 -0.002735         -0.330307      -0.105878           -0.123087   \n",
       "1  0.005312          1.250024       0.812375            0.614149   \n",
       "2 -0.003090         -0.309376       0.469019           -0.123003   \n",
       "3  0.004284          0.528073       0.264215           -0.118590   \n",
       "4  0.003476          1.196793       1.069461            0.438029   \n",
       "\n",
       "   seller_address.longitude  seller_address.id  seller_address.address_line  \\\n",
       "0                 -0.033150           0.065501                     0.000205   \n",
       "1                  0.071757           0.102656                     0.000149   \n",
       "2                  0.006566           0.430903                     0.000133   \n",
       "3                  0.095058           0.093449                     0.000140   \n",
       "4                 -0.014566           0.082337                     0.000137   \n",
       "\n",
       "   seller_address.latitude  seller_address.search_location.neighborhood.id  \\\n",
       "0                -0.078614                                        0.181907   \n",
       "1                 0.054515                                       -0.016950   \n",
       "2                 0.082121                                        0.023226   \n",
       "3                -0.003187                                       -0.025215   \n",
       "4                 0.057567                                       -0.025616   \n",
       "\n",
       "   seller_address.search_location.state.id  \\\n",
       "0                                -0.043359   \n",
       "1                                 0.029031   \n",
       "2                                 0.011771   \n",
       "3                                 0.033103   \n",
       "4                                -0.119255   \n",
       "\n",
       "   seller_address.search_location.city.id  seller_address.zip_code  \\\n",
       "0                               -0.091939                 0.000069   \n",
       "1                                0.122424                -0.000218   \n",
       "2                                0.015934                -0.000591   \n",
       "3                                0.046428                -0.000432   \n",
       "4                               -0.002679                -0.000150   \n",
       "\n",
       "   seller_address.city.id  seller_address.state.id  shipping.local_pick_up  \\\n",
       "0               -0.056915                -0.008281                0.012032   \n",
       "1                0.123535                 0.008732                0.014660   \n",
       "2                0.063359                -0.006938               -0.042583   \n",
       "3                0.024924                 0.007791                0.018908   \n",
       "4                0.002871                -0.010473                0.006661   \n",
       "\n",
       "   shipping.tags  shipping.mode  shipping.free_methods  seller_contact.phone2  \\\n",
       "0            0.0      -0.010195              -0.005550               0.000241   \n",
       "1            0.0      -0.134156              -0.004230               0.000314   \n",
       "2            0.0       0.146279               0.452013               0.000219   \n",
       "3            0.0      -0.141218              -0.002708               0.000442   \n",
       "4            0.0       0.249920              -0.003359               0.000379   \n",
       "\n",
       "   seller_contact.webpage  seller_contact.email  seller_contact.contact  \\\n",
       "0               -0.000007             -0.002372                0.006006   \n",
       "1                0.000028             -0.000894                0.008157   \n",
       "2               -0.000006             -0.001818                0.012553   \n",
       "3                0.000184              0.000618                0.008596   \n",
       "4                0.000020             -0.001099                0.007569   \n",
       "\n",
       "   seller_contact.area_code  seller_contact.other_info  seller_contact.phone  \\\n",
       "0                  0.000054                        0.0                   0.0   \n",
       "1                  0.000006                        0.0                   0.0   \n",
       "2                  0.000224                        0.0                   0.0   \n",
       "3                 -0.000272                        0.0                   0.0   \n",
       "4                 -0.000026                        0.0                   0.0   \n",
       "\n",
       "   location.open_hours  location.neighborhood.id  location.longitude  \\\n",
       "0                  0.0                 -0.001213           -0.000048   \n",
       "1                  0.0                 -0.001108            0.000005   \n",
       "2                  0.0                 -0.000945            0.000289   \n",
       "3                  0.0                 -0.001160           -0.000239   \n",
       "4                  0.0                 -0.000829            0.000060   \n",
       "\n",
       "   location.address_line  location.latitude  location.city.id  \\\n",
       "0                    0.0          -0.000144          0.001197   \n",
       "1                    0.0          -0.000058          0.001930   \n",
       "2                    0.0           0.000336          0.001058   \n",
       "3                    0.0          -0.000132          0.002571   \n",
       "4                    0.0          -0.000017          0.000777   \n",
       "\n",
       "   location.state.id  non_mercado_pago_payment_methods.MLAWC  \\\n",
       "0           0.004173                                0.003860   \n",
       "1           0.003533                                0.009795   \n",
       "2           0.004322                                0.011749   \n",
       "3           0.007964                                0.007798   \n",
       "4           0.003107                                0.007610   \n",
       "\n",
       "   non_mercado_pago_payment_methods.MLACD  \\\n",
       "0                               -0.000112   \n",
       "1                                0.000024   \n",
       "2                               -0.000121   \n",
       "3                               -0.000051   \n",
       "4                               -0.000178   \n",
       "\n",
       "   non_mercado_pago_payment_methods.MLAVS  \\\n",
       "0                            4.295149e-06   \n",
       "1                           -1.604759e-06   \n",
       "2                            8.187064e-06   \n",
       "3                            8.381121e-07   \n",
       "4                            1.830781e-04   \n",
       "\n",
       "   non_mercado_pago_payment_methods.MLAMO  \\\n",
       "0                               -0.028913   \n",
       "1                               -0.009758   \n",
       "2                               -0.020417   \n",
       "3                               -0.044948   \n",
       "4                               -0.008985   \n",
       "\n",
       "   non_mercado_pago_payment_methods.MLADC  \\\n",
       "0                               -0.000016   \n",
       "1                               -0.000039   \n",
       "2                               -0.000013   \n",
       "3                               -0.000038   \n",
       "4                               -0.000013   \n",
       "\n",
       "   non_mercado_pago_payment_methods.MLAMP  \\\n",
       "0                               -0.000032   \n",
       "1                               -0.000023   \n",
       "2                               -0.000022   \n",
       "3                               -0.000022   \n",
       "4                               -0.000017   \n",
       "\n",
       "   non_mercado_pago_payment_methods.MLAMC  \\\n",
       "0                               -0.000019   \n",
       "1                               -0.000062   \n",
       "2                               -0.000048   \n",
       "3                               -0.000059   \n",
       "4                               -0.000029   \n",
       "\n",
       "   non_mercado_pago_payment_methods.MLABC  \\\n",
       "0                                0.000011   \n",
       "1                                0.000316   \n",
       "2                                0.000027   \n",
       "3                                0.000014   \n",
       "4                                0.000238   \n",
       "\n",
       "   non_mercado_pago_payment_methods.MLAOT  \\\n",
       "0                               -0.041784   \n",
       "1                                0.189919   \n",
       "2                               -0.047585   \n",
       "3                               -0.065721   \n",
       "4                                0.208890   \n",
       "\n",
       "   non_mercado_pago_payment_methods.MLAAM  \\\n",
       "0                               -0.000025   \n",
       "1                               -0.000028   \n",
       "2                               -0.000046   \n",
       "3                               -0.000032   \n",
       "4                               -0.000027   \n",
       "\n",
       "   non_mercado_pago_payment_methods.MLAWT  \\\n",
       "0                                0.001144   \n",
       "1                                0.000756   \n",
       "2                                0.001062   \n",
       "3                                0.000665   \n",
       "4                                0.000824   \n",
       "\n",
       "   non_mercado_pago_payment_methods.MLAVE  \\\n",
       "0                               -0.000064   \n",
       "1                               -0.000071   \n",
       "2                               -0.000061   \n",
       "3                               -0.000080   \n",
       "4                               -0.000047   \n",
       "\n",
       "   non_mercado_pago_payment_methods.MLATB  \\\n",
       "0                               -0.026707   \n",
       "1                                0.099042   \n",
       "2                               -0.069615   \n",
       "3                                0.165153   \n",
       "4                                0.125654   \n",
       "\n",
       "   non_mercado_pago_payment_methods.MLAMS  tags.good_quality_thumbnail  \\\n",
       "0                               -0.000051                     0.000569   \n",
       "1                               -0.000108                     0.001424   \n",
       "2                               -0.000075                     0.001645   \n",
       "3                               -0.000038                     0.000990   \n",
       "4                               -0.000077                     0.002195   \n",
       "\n",
       "   tags.dragged_visits  tags.free_relist  tags.dragged_bids_and_visits  \\\n",
       "0            -0.001824          0.001116                     -0.185743   \n",
       "1            -0.001697          0.001351                     -0.023799   \n",
       "2            -0.001419          0.001267                     -0.067110   \n",
       "3            -0.001864          0.001432                      0.106549   \n",
       "4            -0.001468          0.001216                     -0.055292   \n",
       "\n",
       "   tags.poor_quality_thumbnail  pictures.large  pictures.medium  \\\n",
       "0                          0.0        0.229320        -0.066078   \n",
       "1                          0.0        0.079031        -0.033158   \n",
       "2                          0.0        0.348961        -0.007405   \n",
       "3                          0.0        0.071033         0.331106   \n",
       "4                          0.0       -0.212440        -0.045403   \n",
       "\n",
       "   pictures.small  title.new     video  seller_address.product_count  \n",
       "0       -0.036882  -0.050483 -0.004813                     -0.312170  \n",
       "1       -0.020019  -0.030758 -0.001067                      0.219529  \n",
       "2        0.817269  -0.046524 -0.003314                      0.036449  \n",
       "3       -0.029082  -0.038673 -0.004834                     -0.112223  \n",
       "4       -0.018956   0.724927 -0.004723                      0.037688  "
      ]
     },
     "execution_count": 36,
     "metadata": {},
     "output_type": "execute_result"
    }
   ],
   "source": [
    "# Identify feature with shap value of 0\n",
    "pd.set_option('display.max_columns', None)\n",
    "shap_values_df.head()"
   ]
  },
  {
   "cell_type": "code",
   "execution_count": 42,
   "metadata": {},
   "outputs": [],
   "source": [
    "cols_to_drop = ['deal_ids', 'tags.poor_quality_thumbnail', 'original_price', 'shipping.tags', 'seller_contact.other_info',\t'seller_contact.phone',\t'location.open_hours', 'location.address_line', 'tags.poor_quality_thumbnail']"
   ]
  },
  {
   "cell_type": "markdown",
   "metadata": {},
   "source": [
    "### **Best model**"
   ]
  },
  {
   "cell_type": "code",
   "execution_count": 43,
   "metadata": {},
   "outputs": [],
   "source": [
    "# Removed variables with Shapley value of 0\n",
    "df_cleaned = df.drop(columns=cols_to_drop)"
   ]
  },
  {
   "cell_type": "code",
   "execution_count": 44,
   "metadata": {},
   "outputs": [],
   "source": [
    "X_best_model = df_cleaned.drop(columns=['condition'])\n",
    "y_best_model = df_cleaned['condition'].apply(lambda x: 1 if x == 'new' else 0)"
   ]
  },
  {
   "cell_type": "code",
   "execution_count": 45,
   "metadata": {},
   "outputs": [],
   "source": [
    "# Drop rows with 70+ missing values\n",
    "df_cleaned = df_cleaned.drop(16648)\n",
    "df_cleaned = df_cleaned.drop(82276)\n",
    "df_cleaned = df_cleaned.drop(92231)\n",
    "df_cleaned = df_cleaned.drop(83079)\n",
    "df_cleaned = df_cleaned.drop(88865)"
   ]
  },
  {
   "cell_type": "code",
   "execution_count": 47,
   "metadata": {},
   "outputs": [],
   "source": [
    "X_train, X_test, y_train, y_test = train_test_split(X_best_model, y_best_model, test_size=0.2)"
   ]
  },
  {
   "cell_type": "code",
   "execution_count": 48,
   "metadata": {},
   "outputs": [
    {
     "data": {
      "text/plain": [
       "XGBClassifier(base_score=None, booster=None, callbacks=None,\n",
       "              colsample_bylevel=None, colsample_bynode=None,\n",
       "              colsample_bytree=0.5052688805519626, device=None,\n",
       "              early_stopping_rounds=None, enable_categorical=True,\n",
       "              eval_metric=None, feature_types=None, gamma=0.27478348966202637,\n",
       "              grow_policy=None, importance_type=None,\n",
       "              interaction_constraints=None, learning_rate=0.04157662628497938,\n",
       "              max_bin=None, max_cat_threshold=None, max_cat_to_onehot=None,\n",
       "              max_delta_step=None, max_depth=17, max_leaves=None,\n",
       "              min_child_weight=1, missing=nan, monotone_constraints=None,\n",
       "              multi_strategy=None, n_estimators=237, n_jobs=None,\n",
       "              num_parallel_tree=None, random_state=None, ...)"
      ]
     },
     "execution_count": 48,
     "metadata": {},
     "output_type": "execute_result"
    }
   ],
   "source": [
    "best_params = {'max_depth': 17,\n",
    "    'learning_rate': 0.04157662628497938,\n",
    "    'n_estimators': 237,\n",
    "    'min_child_weight': 1,\n",
    "    'gamma': 0.27478348966202637,\n",
    "    'subsample': 0.713912663609672,\n",
    "    'colsample_bytree': 0.5052688805519626,\n",
    "    'reg_alpha': 0.0041858380380201815,\n",
    "    'reg_lambda': 0.7759354151038396,\n",
    "    'enable_categorical': True,\n",
    "    }\n",
    "\n",
    "model = xgb.XGBClassifier(**best_params)\n",
    "model.fit(X_train, y_train)"
   ]
  },
  {
   "cell_type": "markdown",
   "metadata": {},
   "source": [
    "### **Evaluation best model**"
   ]
  },
  {
   "cell_type": "code",
   "execution_count": 49,
   "metadata": {},
   "outputs": [
    {
     "name": "stdout",
     "output_type": "stream",
     "text": [
      "0.8881482603645913\n",
      "0.8918633716633138\n"
     ]
    }
   ],
   "source": [
    "# X_test\n",
    "# preds = model.predict(X_test)\n",
    "accuracy_X_test = cross_val_score(model, X_test, y_test, cv=3, scoring='accuracy').mean()\n",
    "\n",
    "# X\n",
    "accuracy_X = cross_val_score(model, X, y, cv=3, scoring='accuracy').mean()\n",
    "\n",
    "print(accuracy_X_test)\n",
    "print(accuracy_X)"
   ]
  },
  {
   "cell_type": "code",
   "execution_count": 50,
   "metadata": {},
   "outputs": [
    {
     "name": "stdout",
     "output_type": "stream",
     "text": [
      "0.8957873793725876\n",
      "0.8825279574520312\n"
     ]
    }
   ],
   "source": [
    "# X_test\n",
    "# preds = model.predict(X_test)\n",
    "precision_X_test = cross_val_score(model, X_test, y_test, cv=3, scoring='precision').mean()\n",
    "\n",
    "# X\n",
    "precision_X = cross_val_score(model, X, y, cv=3, scoring='precision').mean()\n",
    "\n",
    "print(precision_X_test)\n",
    "print(precision_X)"
   ]
  },
  {
   "cell_type": "markdown",
   "metadata": {},
   "source": [
    "### **Store best model**"
   ]
  },
  {
   "cell_type": "code",
   "execution_count": 51,
   "metadata": {},
   "outputs": [],
   "source": [
    "# Save the model\n",
    "with open('../models/xgboost_best_model.pickle', 'wb') as f:\n",
    "    pickle.dump(model, f)"
   ]
  }
 ],
 "metadata": {
  "kernelspec": {
   "display_name": "challenge",
   "language": "python",
   "name": "python3"
  },
  "language_info": {
   "codemirror_mode": {
    "name": "ipython",
    "version": 3
   },
   "file_extension": ".py",
   "mimetype": "text/x-python",
   "name": "python",
   "nbconvert_exporter": "python",
   "pygments_lexer": "ipython3",
   "version": "3.9.19"
  }
 },
 "nbformat": 4,
 "nbformat_minor": 2
}
