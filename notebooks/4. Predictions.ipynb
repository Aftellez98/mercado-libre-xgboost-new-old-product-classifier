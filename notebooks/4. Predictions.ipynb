{
 "cells": [
  {
   "cell_type": "code",
   "execution_count": 25,
   "metadata": {},
   "outputs": [],
   "source": [
    "import pickle\n",
    "import pandas as pd\n",
    "import random"
   ]
  },
  {
   "cell_type": "code",
   "execution_count": 26,
   "metadata": {},
   "outputs": [],
   "source": [
    "def load_model():\n",
    "    '''Function to load the best model'''\n",
    "    \n",
    "    with open('../models/xgboost_best_model.pickle', 'rb') as f:\n",
    "        model = pickle.load(f)\n",
    "\n",
    "    return model\n",
    "\n",
    "model = load_model()"
   ]
  },
  {
   "cell_type": "code",
   "execution_count": 27,
   "metadata": {},
   "outputs": [],
   "source": [
    "schema = {'warranty': 'category',\n",
    " 'sub_status': 'category',\n",
    " 'condition': 'category',\n",
    " 'deal_ids': 'float',\n",
    " 'base_price': 'float',\n",
    " 'seller_id': 'category',\n",
    " 'listing_type_id': 'category',\n",
    " 'price': 'float',\n",
    " 'buying_mode': 'category',\n",
    " 'parent_item_id': 'category',\n",
    " 'category_id': 'category',\n",
    " 'official_store_id': 'category',\n",
    " 'accepts_mercadopago': 'category',\n",
    " 'original_price': 'float',\n",
    " 'currency_id': 'category',\n",
    " 'automatic_relist': 'category',\n",
    " 'status': 'category',\n",
    " 'initial_quantity': 'float',\n",
    " 'sold_quantity': 'float',\n",
    " 'available_quantity': 'float',\n",
    " 'seller_address.longitude': 'float',\n",
    " 'seller_address.id': 'category',\n",
    " 'seller_address.address_line': 'category',\n",
    " 'seller_address.latitude': 'float',\n",
    " 'seller_address.search_location.neighborhood.id': 'category',\n",
    " 'seller_address.search_location.state.id': 'category',\n",
    " 'seller_address.search_location.city.id': 'category',\n",
    " 'seller_address.zip_code': 'category',\n",
    " 'seller_address.city.id': 'category',\n",
    " 'seller_address.state.id': 'category',\n",
    " 'shipping.local_pick_up': 'category',\n",
    " 'shipping.tags': 'category',\n",
    " 'shipping.mode': 'category',\n",
    " 'shipping.free_methods': 'category',\n",
    " 'seller_contact.phone2': 'category',\n",
    " 'seller_contact.webpage': 'category',\n",
    " 'seller_contact.email': 'category',\n",
    " 'seller_contact.contact': 'category',\n",
    " 'seller_contact.area_code': 'category',\n",
    " 'seller_contact.other_info': 'category',\n",
    " 'seller_contact.phone': 'category',\n",
    " 'location.open_hours': 'category',\n",
    " 'location.neighborhood.id': 'category',\n",
    " 'location.longitude': 'float',\n",
    " 'location.address_line': 'category',\n",
    " 'location.latitude': 'float',\n",
    " 'location.city.id': 'category',\n",
    " 'location.state.id': 'category',\n",
    " 'non_mercado_pago_payment_methods.MLAWC': 'category',\n",
    " 'non_mercado_pago_payment_methods.MLACD': 'category',\n",
    " 'non_mercado_pago_payment_methods.MLAVS': 'category',\n",
    " 'non_mercado_pago_payment_methods.MLAMO': 'category',\n",
    " 'non_mercado_pago_payment_methods.MLADC': 'category',\n",
    " 'non_mercado_pago_payment_methods.MLAMP': 'category',\n",
    " 'non_mercado_pago_payment_methods.MLAMC': 'category',\n",
    " 'non_mercado_pago_payment_methods.MLABC': 'category',\n",
    " 'non_mercado_pago_payment_methods.MLAOT': 'category',\n",
    " 'non_mercado_pago_payment_methods.MLAAM': 'category',\n",
    " 'non_mercado_pago_payment_methods.MLAWT': 'category',\n",
    " 'non_mercado_pago_payment_methods.MLAVE': 'category',\n",
    " 'non_mercado_pago_payment_methods.MLATB': 'category',\n",
    " 'non_mercado_pago_payment_methods.MLAMS': 'category',\n",
    " 'tags.good_quality_thumbnail': 'category',\n",
    " 'tags.dragged_visits': 'category',\n",
    " 'tags.free_relist': 'category',\n",
    " 'tags.dragged_bids_and_visits': 'category',\n",
    " 'tags.poor_quality_thumbnail': 'category',\n",
    " 'pictures.large': 'float',\n",
    " 'pictures.medium': 'float',\n",
    " 'pictures.small': 'float',\n",
    " 'title.new': 'category',\n",
    " 'video': 'category',\n",
    " 'seller_address.product_count': 'float'}"
   ]
  },
  {
   "cell_type": "code",
   "execution_count": 28,
   "metadata": {},
   "outputs": [],
   "source": [
    "def load_csv(schema: dict) -> pd.DataFrame:\n",
    "    '''Function to load dclean data'''\n",
    "\n",
    "    df = pd.read_csv('../data/clean/output.csv', dtype=schema)\n",
    "\n",
    "    # Drop rows with 70+ missing values\n",
    "    df = df.drop(16647)\n",
    "    df = df.drop(83078)\n",
    "    df = df.drop(92230)\n",
    "    df = df.drop(82275)\n",
    "    df = df.drop(88864)\n",
    "\n",
    "\n",
    "    cols_to_drop = ['deal_ids', 'tags.poor_quality_thumbnail', 'original_price', \n",
    "                    'shipping.tags', 'seller_contact.other_info',\t'seller_contact.phone',\t'location.open_hours', \n",
    "                    'location.address_line', 'tags.poor_quality_thumbnail']\n",
    "    \n",
    "    df_cleaned = df.drop(columns=cols_to_drop)\n",
    "    \n",
    "    return df_cleaned\n",
    "\n",
    "df = load_csv(schema)"
   ]
  },
  {
   "cell_type": "code",
   "execution_count": 30,
   "metadata": {},
   "outputs": [],
   "source": [
    "def select_random_index(df: pd.DataFrame):\n",
    "    '''Function that selects a random index from the DataFrame'''\n",
    "    return random.choice(df.index)\n",
    "\n",
    "random_index = select_random_index(df)"
   ]
  },
  {
   "cell_type": "code",
   "execution_count": 39,
   "metadata": {},
   "outputs": [],
   "source": [
    "data_for_prediction = df.drop(columns=['condition']).iloc[[random_index]]\n",
    "data_for_prediction"
   ]
  },
  {
   "cell_type": "code",
   "execution_count": 44,
   "metadata": {},
   "outputs": [
    {
     "data": {
      "text/plain": [
       "1"
      ]
     },
     "execution_count": 44,
     "metadata": {},
     "output_type": "execute_result"
    }
   ],
   "source": [
    "# Make a prediction\n",
    "prediction = model.predict(data_for_prediction)\n",
    "prediction[0]"
   ]
  }
 ],
 "metadata": {
  "kernelspec": {
   "display_name": "rccl_recomender",
   "language": "python",
   "name": "python3"
  },
  "language_info": {
   "codemirror_mode": {
    "name": "ipython",
    "version": 3
   },
   "file_extension": ".py",
   "mimetype": "text/x-python",
   "name": "python",
   "nbconvert_exporter": "python",
   "pygments_lexer": "ipython3",
   "version": "3.9.19"
  }
 },
 "nbformat": 4,
 "nbformat_minor": 2
}
